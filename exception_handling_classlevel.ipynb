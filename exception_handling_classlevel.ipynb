{
 "cells": [
  {
   "cell_type": "code",
   "execution_count": 63,
   "id": "a4ab4ed7",
   "metadata": {},
   "outputs": [],
   "source": [
    "class Subclass:\n",
    "    def perform_action(self, val):\n",
    "        # Some code that might raise an exception\n",
    "        #self.val = val\n",
    "        print(val)\n",
    "        try:\n",
    "            if 5 / val:\n",
    "            #raise \n",
    "                print(\"done\")\n",
    "        except ZeroDivisionError as e:\n",
    "            raise\n",
    "\n",
    "    "
   ]
  },
  {
   "cell_type": "code",
   "execution_count": 64,
   "id": "f595823f",
   "metadata": {},
   "outputs": [
    {
     "name": "stdout",
     "output_type": "stream",
     "text": [
      "0\n"
     ]
    },
    {
     "ename": "ZeroDivisionError",
     "evalue": "division by zero",
     "output_type": "error",
     "traceback": [
      "\u001b[1;31m---------------------------------------------------------------------------\u001b[0m",
      "\u001b[1;31mZeroDivisionError\u001b[0m                         Traceback (most recent call last)",
      "Cell \u001b[1;32mIn[64], line 12\u001b[0m\n\u001b[0;32m     10\u001b[0m \u001b[38;5;28;01mif\u001b[39;00m \u001b[38;5;18m__name__\u001b[39m \u001b[38;5;241m==\u001b[39m \u001b[38;5;124m\"\u001b[39m\u001b[38;5;124m__main__\u001b[39m\u001b[38;5;124m\"\u001b[39m:\n\u001b[0;32m     11\u001b[0m     main \u001b[38;5;241m=\u001b[39m MainClass()\n\u001b[1;32m---> 12\u001b[0m     main\u001b[38;5;241m.\u001b[39mrun()\n",
      "Cell \u001b[1;32mIn[64], line 7\u001b[0m, in \u001b[0;36mMainClass.run\u001b[1;34m(self)\u001b[0m\n\u001b[0;32m      5\u001b[0m \u001b[38;5;28;01mdef\u001b[39;00m \u001b[38;5;21mrun\u001b[39m(\u001b[38;5;28mself\u001b[39m):\n\u001b[1;32m----> 7\u001b[0m     \u001b[38;5;28mself\u001b[39m\u001b[38;5;241m.\u001b[39msub\u001b[38;5;241m.\u001b[39mperform_action(\u001b[38;5;241m0\u001b[39m)\n",
      "Cell \u001b[1;32mIn[63], line 7\u001b[0m, in \u001b[0;36mSubclass.perform_action\u001b[1;34m(self, val)\u001b[0m\n\u001b[0;32m      5\u001b[0m \u001b[38;5;28mprint\u001b[39m(val)\n\u001b[0;32m      6\u001b[0m \u001b[38;5;28;01mtry\u001b[39;00m:\n\u001b[1;32m----> 7\u001b[0m     \u001b[38;5;28;01mif\u001b[39;00m \u001b[38;5;241m5\u001b[39m \u001b[38;5;241m/\u001b[39m val:\n\u001b[0;32m      8\u001b[0m     \u001b[38;5;66;03m#raise \u001b[39;00m\n\u001b[0;32m      9\u001b[0m         \u001b[38;5;28mprint\u001b[39m(\u001b[38;5;124m\"\u001b[39m\u001b[38;5;124mdone\u001b[39m\u001b[38;5;124m\"\u001b[39m)\n\u001b[0;32m     10\u001b[0m \u001b[38;5;28;01mexcept\u001b[39;00m \u001b[38;5;167;01mZeroDivisionError\u001b[39;00m \u001b[38;5;28;01mas\u001b[39;00m e:\n",
      "\u001b[1;31mZeroDivisionError\u001b[0m: division by zero"
     ]
    }
   ],
   "source": [
    "class MainClass:\n",
    "    def __init__(self):\n",
    "        self.sub = Subclass()\n",
    "\n",
    "    def run(self):\n",
    "        \n",
    "        self.sub.perform_action(0)\n",
    "        \n",
    "\n",
    "if __name__ == \"__main__\":\n",
    "    main = MainClass()\n",
    "    main.run()"
   ]
  },
  {
   "cell_type": "code",
   "execution_count": 33,
   "id": "ad6b6811",
   "metadata": {},
   "outputs": [],
   "source": [
    "class Subclass2:\n",
    "    def perform_action2(self, val):\n",
    "        # Some code that might raise an exception\n",
    "        self.val = val\n",
    "        print(val)\n",
    "        try:\n",
    "            if val / 0:\n",
    "                #raise ZeroDivisionError(\"An error occurred in the Subclass\")\n",
    "                print(\"done\")\n",
    "        except ZeroDivisionError as e:\n",
    "            print(\"error occured - \", e)\n",
    "            raise "
   ]
  },
  {
   "cell_type": "code",
   "execution_count": 34,
   "id": "1a4151c7",
   "metadata": {},
   "outputs": [
    {
     "name": "stdout",
     "output_type": "stream",
     "text": [
      "5\n",
      "error occured -  division by zero\n",
      "division by zero\n"
     ]
    }
   ],
   "source": [
    "class MainClass2:\n",
    "    def __init__(self):\n",
    "        self.sub = Subclass2()\n",
    "\n",
    "    def run2(self):\n",
    "        try:\n",
    "            self.sub.perform_action2(5)\n",
    "        except ZeroDivisionError as e:\n",
    "            print(e)\n",
    "        except Exception as e:\n",
    "            print(f\"Caught a different exception in MainClass: {e}\")\n",
    "\n",
    "if __name__ == \"__main__\":\n",
    "    main = MainClass2()\n",
    "    main.run2()"
   ]
  },
  {
   "cell_type": "code",
   "execution_count": 40,
   "id": "e1ac696c",
   "metadata": {},
   "outputs": [
    {
     "name": "stdout",
     "output_type": "stream",
     "text": [
      "What is your first number? 2\n",
      "What is your second number? r\n",
      "error -  could not convert string to float: 'r'\n"
     ]
    }
   ],
   "source": [
    "try:\n",
    "    first = float(input(\"What is your first number? \"))\n",
    "    second = float(input(\"What is your second number? \"))\n",
    "    print(f\"{first} divided by {second} is {first / second}\")\n",
    "except ValueError as e:\n",
    "    #print(\"You must enter a number\")\n",
    "    print(\"error - \", e)\n",
    "except ZeroDivisionError:\n",
    "    print(\"You can't divide by zero\")"
   ]
  },
  {
   "cell_type": "code",
   "execution_count": null,
   "id": "e603ce29",
   "metadata": {},
   "outputs": [],
   "source": []
  },
  {
   "cell_type": "code",
   "execution_count": null,
   "id": "093f9141",
   "metadata": {},
   "outputs": [],
   "source": []
  },
  {
   "cell_type": "code",
   "execution_count": 10,
   "id": "7c1b21ad",
   "metadata": {},
   "outputs": [
    {
     "name": "stdout",
     "output_type": "stream",
     "text": [
      "Caught an exception: Value cannot be negative\n"
     ]
    }
   ],
   "source": [
    "\n",
    "\n",
    "class Subclass:\n",
    "    def __init__(self, value):\n",
    "        self.value = value\n",
    "\n",
    "    def process(self):\n",
    "        if self.value < 0:\n",
    "            raise MyException(\"Value cannot be negative\")\n",
    "            print('done')\n",
    "\n",
    "class MainClass:\n",
    "    def __init__(self, value):\n",
    "        self.subclass_instance = Subclass(value)\n",
    "\n",
    "    def run(self):\n",
    "        try:\n",
    "            self.subclass_instance.process()\n",
    "        except MyException as e:\n",
    "            print(f\"Caught an exception: {e}\")\n",
    "        else:\n",
    "            print(\"No exception was raised.\")\n",
    "\n",
    "if __name__ == \"__main__\":\n",
    "    value = -5\n",
    "    main_instance = MainClass(value)\n",
    "    main_instance.run()"
   ]
  },
  {
   "cell_type": "code",
   "execution_count": null,
   "id": "12d24b19",
   "metadata": {},
   "outputs": [],
   "source": []
  },
  {
   "cell_type": "code",
   "execution_count": 11,
   "id": "e63538a7",
   "metadata": {},
   "outputs": [
    {
     "name": "stdout",
     "output_type": "stream",
     "text": [
      "Caught a ZeroDivisionError: Division by zero is not allowed\n"
     ]
    }
   ],
   "source": [
    "class Subclass:\n",
    "    def __init__(self):\n",
    "        pass\n",
    "    \n",
    "    def divide(self, x, y):\n",
    "        if y == 0:\n",
    "            raise ZeroDivisionError(\"Division by zero is not allowed\")\n",
    "        return x / y\n",
    "\n",
    "class MainClass:\n",
    "    def __init__(self):\n",
    "        pass\n",
    "    \n",
    "    def handle_exception(self):\n",
    "        try:\n",
    "            sub = Subclass()\n",
    "            result = sub.divide(10, 0)\n",
    "        except ZeroDivisionError as e:\n",
    "            print(f\"Caught a ZeroDivisionError: {e}\")\n",
    "        else:\n",
    "            print(f\"Result of division: {result}\")\n",
    "\n",
    "if __name__ == \"__main__\":\n",
    "    main = MainClass()\n",
    "    main.handle_exception()"
   ]
  },
  {
   "cell_type": "code",
   "execution_count": null,
   "id": "47e6c877",
   "metadata": {},
   "outputs": [],
   "source": []
  }
 ],
 "metadata": {
  "kernelspec": {
   "display_name": "Python 3 (ipykernel)",
   "language": "python",
   "name": "python3"
  },
  "language_info": {
   "codemirror_mode": {
    "name": "ipython",
    "version": 3
   },
   "file_extension": ".py",
   "mimetype": "text/x-python",
   "name": "python",
   "nbconvert_exporter": "python",
   "pygments_lexer": "ipython3",
   "version": "3.11.3"
  }
 },
 "nbformat": 4,
 "nbformat_minor": 5
}
