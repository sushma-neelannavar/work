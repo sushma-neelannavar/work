{
 "cells": [
  {
   "cell_type": "markdown",
   "id": "bd639868",
   "metadata": {},
   "source": [
    "# Edit Your Expectation Suite\n",
    "Use this notebook to recreate and modify your expectation suite:\n",
    "\n",
    "**Expectation Suite Name**: `bank_expectations`\n"
   ]
  },
  {
   "cell_type": "code",
   "execution_count": 1,
   "id": "e63e95a0",
   "metadata": {},
   "outputs": [
    {
     "name": "stdout",
     "output_type": "stream",
     "text": [
      "2023-08-28T16:49:13+0530 - INFO - Great Expectations logging enabled at 20 level by JupyterUX module.\n",
      "2023-08-28T16:49:13+0530 - INFO - FileDataContext loading fluent config\n",
      "2023-08-28T16:49:13+0530 - INFO - Loading 'datasources' ->\n",
      "[]\n",
      "Loaded ExpectationSuite \"bank_expectations\" containing 2 expectations.\n"
     ]
    },
    {
     "data": {
      "application/vnd.jupyter.widget-view+json": {
       "model_id": "cb01cca110c74e88a0505910a09e30fd",
       "version_major": 2,
       "version_minor": 0
      },
      "text/plain": [
       "Calculating Metrics:   0%|          | 0/2 [00:00<?, ?it/s]"
      ]
     },
     "metadata": {},
     "output_type": "display_data"
    },
    {
     "name": "stdout",
     "output_type": "stream",
     "text": [
      "Columns: \"Account No\", \"First Name\", \"Last Name\", \"Email\", \"Contact Number\", \"DATE\", \"TRANSACTION DETAILS\", \"CHQ.NO.\", \"VALUE DATE\", \"WITHDRAWAL AMT\", \"DEPOSIT AMT\", \"BALANCE AMT\", \"Score\".\n"
     ]
    },
    {
     "data": {
      "application/vnd.jupyter.widget-view+json": {
       "model_id": "b87eb6deeb3841f185b7bad0d12d07d9",
       "version_major": 2,
       "version_minor": 0
      },
      "text/plain": [
       "Calculating Metrics:   0%|          | 0/1 [00:00<?, ?it/s]"
      ]
     },
     "metadata": {},
     "output_type": "display_data"
    },
    {
     "data": {
      "text/html": [
       "<div>\n",
       "<style scoped>\n",
       "    .dataframe tbody tr th:only-of-type {\n",
       "        vertical-align: middle;\n",
       "    }\n",
       "\n",
       "    .dataframe tbody tr th {\n",
       "        vertical-align: top;\n",
       "    }\n",
       "\n",
       "    .dataframe thead th {\n",
       "        text-align: right;\n",
       "    }\n",
       "</style>\n",
       "<table border=\"1\" class=\"dataframe\">\n",
       "  <thead>\n",
       "    <tr style=\"text-align: right;\">\n",
       "      <th></th>\n",
       "      <th>Account No</th>\n",
       "      <th>First Name</th>\n",
       "      <th>Last Name</th>\n",
       "      <th>Email</th>\n",
       "      <th>Contact Number</th>\n",
       "      <th>DATE</th>\n",
       "      <th>TRANSACTION DETAILS</th>\n",
       "      <th>CHQ.NO.</th>\n",
       "      <th>VALUE DATE</th>\n",
       "      <th>WITHDRAWAL AMT</th>\n",
       "      <th>DEPOSIT AMT</th>\n",
       "      <th>BALANCE AMT</th>\n",
       "      <th>Score</th>\n",
       "    </tr>\n",
       "  </thead>\n",
       "  <tbody>\n",
       "    <tr>\n",
       "      <th>0</th>\n",
       "      <td>569263592933</td>\n",
       "      <td>Jeff</td>\n",
       "      <td>Elliott</td>\n",
       "      <td>jeff.elliott@gmail.com</td>\n",
       "      <td>8806817668</td>\n",
       "      <td>29-06-2017</td>\n",
       "      <td>TRF FROM  Indiaforensic SERVICES</td>\n",
       "      <td>NaN</td>\n",
       "      <td>29-06-2017</td>\n",
       "      <td>NaN</td>\n",
       "      <td>1000000.0</td>\n",
       "      <td>1000000</td>\n",
       "      <td>506</td>\n",
       "    </tr>\n",
       "    <tr>\n",
       "      <th>1</th>\n",
       "      <td>612615480137</td>\n",
       "      <td>Joanne</td>\n",
       "      <td>Williams</td>\n",
       "      <td>joanne.williams@gmail.com</td>\n",
       "      <td>8130318810</td>\n",
       "      <td>05-07-2017</td>\n",
       "      <td>TRF FROM  Indiaforensic SERVICES</td>\n",
       "      <td>NaN</td>\n",
       "      <td>05-07-2017</td>\n",
       "      <td>NaN</td>\n",
       "      <td>1000000.0</td>\n",
       "      <td>2000000</td>\n",
       "      <td>893</td>\n",
       "    </tr>\n",
       "    <tr>\n",
       "      <th>2</th>\n",
       "      <td>479702589395</td>\n",
       "      <td>Ashley</td>\n",
       "      <td>Lopez</td>\n",
       "      <td>ashley.lopez@gmail.com</td>\n",
       "      <td>9929198677</td>\n",
       "      <td>18-07-2017</td>\n",
       "      <td>FDRL/INTERNAL FUND TRANSFE</td>\n",
       "      <td>NaN</td>\n",
       "      <td>18-07-2017</td>\n",
       "      <td>NaN</td>\n",
       "      <td>500000.0</td>\n",
       "      <td>2500000</td>\n",
       "      <td>507</td>\n",
       "    </tr>\n",
       "    <tr>\n",
       "      <th>3</th>\n",
       "      <td>426501064966</td>\n",
       "      <td>Brian</td>\n",
       "      <td>Williams</td>\n",
       "      <td>brian.williams@gmail.com</td>\n",
       "      <td>6660462497</td>\n",
       "      <td>01-08-2017</td>\n",
       "      <td>TRF FRM  Indiaforensic SERVICES</td>\n",
       "      <td>NaN</td>\n",
       "      <td>01-08-2017</td>\n",
       "      <td>NaN</td>\n",
       "      <td>3000000.0</td>\n",
       "      <td>5500000</td>\n",
       "      <td>750</td>\n",
       "    </tr>\n",
       "    <tr>\n",
       "      <th>4</th>\n",
       "      <td>984587159401</td>\n",
       "      <td>Nathan</td>\n",
       "      <td>Massey</td>\n",
       "      <td>nathan.massey@gmail.com</td>\n",
       "      <td>7205639861</td>\n",
       "      <td>16-08-2017</td>\n",
       "      <td>FDRL/INTERNAL FUND TRANSFE</td>\n",
       "      <td>NaN</td>\n",
       "      <td>16-08-2017</td>\n",
       "      <td>NaN</td>\n",
       "      <td>500000.0</td>\n",
       "      <td>6000000</td>\n",
       "      <td>818</td>\n",
       "    </tr>\n",
       "  </tbody>\n",
       "</table>\n",
       "</div>"
      ],
      "text/plain": [
       "     Account No First Name Last Name                      Email  \\\n",
       "0  569263592933       Jeff   Elliott     jeff.elliott@gmail.com   \n",
       "1  612615480137     Joanne  Williams  joanne.williams@gmail.com   \n",
       "2  479702589395     Ashley     Lopez     ashley.lopez@gmail.com   \n",
       "3  426501064966      Brian  Williams   brian.williams@gmail.com   \n",
       "4  984587159401     Nathan    Massey    nathan.massey@gmail.com   \n",
       "\n",
       "   Contact Number        DATE               TRANSACTION DETAILS  CHQ.NO.  \\\n",
       "0      8806817668  29-06-2017  TRF FROM  Indiaforensic SERVICES      NaN   \n",
       "1      8130318810  05-07-2017  TRF FROM  Indiaforensic SERVICES      NaN   \n",
       "2      9929198677  18-07-2017        FDRL/INTERNAL FUND TRANSFE      NaN   \n",
       "3      6660462497  01-08-2017   TRF FRM  Indiaforensic SERVICES      NaN   \n",
       "4      7205639861  16-08-2017        FDRL/INTERNAL FUND TRANSFE      NaN   \n",
       "\n",
       "   VALUE DATE  WITHDRAWAL AMT  DEPOSIT AMT  BALANCE AMT  Score  \n",
       "0  29-06-2017             NaN    1000000.0      1000000    506  \n",
       "1  05-07-2017             NaN    1000000.0      2000000    893  \n",
       "2  18-07-2017             NaN     500000.0      2500000    507  \n",
       "3  01-08-2017             NaN    3000000.0      5500000    750  \n",
       "4  16-08-2017             NaN     500000.0      6000000    818  "
      ]
     },
     "execution_count": 1,
     "metadata": {},
     "output_type": "execute_result"
    }
   ],
   "source": [
    "import datetime\n",
    "\n",
    "import pandas as pd\n",
    "\n",
    "import great_expectations as gx\n",
    "import great_expectations.jupyter_ux\n",
    "from great_expectations.core.batch import BatchRequest\n",
    "from great_expectations.checkpoint import SimpleCheckpoint\n",
    "from great_expectations.exceptions import DataContextError\n",
    "\n",
    "context = gx.get_context()\n",
    "\n",
    "# Note that if you modify this batch request, you may save the new version as a .json file\n",
    "#  to pass in later via the --batch-request option\n",
    "batch_request = {\n",
    "    \"datasource_name\": \"bank_datasource\",\n",
    "    \"data_connector_name\": \"default_inferred_data_connector_name\",\n",
    "    \"data_asset_name\": \"Bank Transaction Data.xlsx\",\n",
    "    \"limit\": 1000,\n",
    "}\n",
    "\n",
    "\n",
    "# Feel free to change the name of your suite here. Renaming this will not remove the other one.\n",
    "expectation_suite_name = \"bank_expectations\"\n",
    "try:\n",
    "    suite = context.get_expectation_suite(expectation_suite_name=expectation_suite_name)\n",
    "    print(\n",
    "        f'Loaded ExpectationSuite \"{suite.expectation_suite_name}\" containing {len(suite.expectations)} expectations.'\n",
    "    )\n",
    "except DataContextError:\n",
    "    suite = context.add_expectation_suite(expectation_suite_name=expectation_suite_name)\n",
    "    print(f'Created ExpectationSuite \"{suite.expectation_suite_name}\".')\n",
    "\n",
    "\n",
    "validator = context.get_validator(\n",
    "    batch_request=BatchRequest(**batch_request),\n",
    "    expectation_suite_name=expectation_suite_name,\n",
    ")\n",
    "column_names = [f'\"{column_name}\"' for column_name in validator.columns()]\n",
    "print(f\"Columns: {', '.join(column_names)}.\")\n",
    "validator.head(n_rows=5, fetch_all=False)"
   ]
  },
  {
   "cell_type": "markdown",
   "id": "98899a2b",
   "metadata": {},
   "source": [
    "## Create & Edit Expectations\n",
    "\n",
    "\n",
    "Add expectations by calling specific expectation methods on the `validator` object. They all begin with `.expect_` which makes autocompleting easy using tab.\n",
    "\n",
    "Because you selected interactive mode, you are now creating or editing an Expectation Suite with validator feedback from the sample batch of data that you specified (see `batch_request`).\n",
    "\n",
    "Note that if you select manual mode you may still create or edit an Expectation Suite directly, without feedback from the `validator`. See our documentation for more info and examples: [How to create a new Expectation Suite without a sample batch](https://docs.greatexpectations.io/docs/guides/expectations/how_to_create_and_edit_expectations_based_on_domain_knowledge_without_inspecting_data_directly).\n",
    "\n",
    "\n",
    "\n",
    "You can see all the available expectations in the **[expectation gallery](https://greatexpectations.io/expectations)**."
   ]
  },
  {
   "cell_type": "markdown",
   "id": "0e658a04",
   "metadata": {},
   "source": [
    "### Table Expectation(s)"
   ]
  },
  {
   "cell_type": "markdown",
   "id": "5780d42e",
   "metadata": {},
   "source": [
    "### Dataset row count range check."
   ]
  },
  {
   "cell_type": "code",
   "execution_count": 2,
   "id": "dc2a3e4e",
   "metadata": {},
   "outputs": [
    {
     "data": {
      "application/vnd.jupyter.widget-view+json": {
       "model_id": "02639d714dd24872a378576c4662bf92",
       "version_major": 2,
       "version_minor": 0
      },
      "text/plain": [
       "Calculating Metrics:   0%|          | 0/1 [00:00<?, ?it/s]"
      ]
     },
     "metadata": {},
     "output_type": "display_data"
    },
    {
     "data": {
      "text/plain": [
       "{\n",
       "  \"success\": true,\n",
       "  \"result\": {\n",
       "    \"observed_value\": 900\n",
       "  },\n",
       "  \"meta\": {},\n",
       "  \"exception_info\": {\n",
       "    \"raised_exception\": false,\n",
       "    \"exception_traceback\": null,\n",
       "    \"exception_message\": null\n",
       "  }\n",
       "}"
      ]
     },
     "execution_count": 2,
     "metadata": {},
     "output_type": "execute_result"
    }
   ],
   "source": [
    "validator.expect_table_row_count_to_be_between(max_value=900, min_value=900)"
   ]
  },
  {
   "cell_type": "markdown",
   "id": "e766518c",
   "metadata": {},
   "source": [
    "### Schema Check"
   ]
  },
  {
   "cell_type": "code",
   "execution_count": 3,
   "id": "f09137fb",
   "metadata": {},
   "outputs": [
    {
     "data": {
      "application/vnd.jupyter.widget-view+json": {
       "model_id": "89a4bc00cebd4ab38a1bcfd91716fa54",
       "version_major": 2,
       "version_minor": 0
      },
      "text/plain": [
       "Calculating Metrics:   0%|          | 0/2 [00:00<?, ?it/s]"
      ]
     },
     "metadata": {},
     "output_type": "display_data"
    },
    {
     "data": {
      "text/plain": [
       "{\n",
       "  \"success\": true,\n",
       "  \"result\": {\n",
       "    \"observed_value\": [\n",
       "      \"Account No\",\n",
       "      \"First Name\",\n",
       "      \"Last Name\",\n",
       "      \"Email\",\n",
       "      \"Contact Number\",\n",
       "      \"DATE\",\n",
       "      \"TRANSACTION DETAILS\",\n",
       "      \"CHQ.NO.\",\n",
       "      \"VALUE DATE\",\n",
       "      \"WITHDRAWAL AMT\",\n",
       "      \"DEPOSIT AMT\",\n",
       "      \"BALANCE AMT\",\n",
       "      \"Score\"\n",
       "    ]\n",
       "  },\n",
       "  \"meta\": {},\n",
       "  \"exception_info\": {\n",
       "    \"raised_exception\": false,\n",
       "    \"exception_traceback\": null,\n",
       "    \"exception_message\": null\n",
       "  }\n",
       "}"
      ]
     },
     "execution_count": 3,
     "metadata": {},
     "output_type": "execute_result"
    }
   ],
   "source": [
    "validator.expect_table_columns_to_match_set(\n",
    "    column_set=[\n",
    "        \"First Name\",\n",
    "        \"TRANSACTION DETAILS\",\n",
    "        \"WITHDRAWAL AMT\",\n",
    "        \"CHQ.NO.\",\n",
    "        \"VALUE DATE\",\n",
    "        \"DATE\",\n",
    "        \"DEPOSIT AMT\",\n",
    "        \"Account No\",\n",
    "        \"BALANCE AMT\",\n",
    "        \"Score\",\n",
    "        \"Email\",\n",
    "        \"Contact Number\",\n",
    "        \"Last Name\",\n",
    "    ]\n",
    ")"
   ]
  },
  {
   "cell_type": "markdown",
   "id": "bf222c78",
   "metadata": {},
   "source": [
    "### Column Expectation(s)"
   ]
  },
  {
   "cell_type": "markdown",
   "id": "821240ef",
   "metadata": {},
   "source": [
    "No column level expectations are in this suite. Feel free to add some here.\n",
    "\n",
    "They all begin with`validator.expect_column_...`.\n"
   ]
  },
  {
   "cell_type": "markdown",
   "id": "1e8b9150",
   "metadata": {},
   "source": [
    "# Column Level Expectations"
   ]
  },
  {
   "cell_type": "markdown",
   "id": "6bfd7149",
   "metadata": {},
   "source": [
    "### Expectation  1 ----> Bank account number should not be null "
   ]
  },
  {
   "cell_type": "code",
   "execution_count": 4,
   "id": "3777d046",
   "metadata": {},
   "outputs": [
    {
     "data": {
      "application/vnd.jupyter.widget-view+json": {
       "model_id": "8d5e40813eda48caa9c7136127094fc7",
       "version_major": 2,
       "version_minor": 0
      },
      "text/plain": [
       "Calculating Metrics:   0%|          | 0/8 [00:00<?, ?it/s]"
      ]
     },
     "metadata": {},
     "output_type": "display_data"
    },
    {
     "data": {
      "text/plain": [
       "{\n",
       "  \"success\": true,\n",
       "  \"result\": {\n",
       "    \"element_count\": 900,\n",
       "    \"unexpected_count\": 0,\n",
       "    \"unexpected_percent\": 0.0,\n",
       "    \"partial_unexpected_list\": [],\n",
       "    \"partial_unexpected_index_list\": [],\n",
       "    \"partial_unexpected_counts\": [],\n",
       "    \"unexpected_list\": [],\n",
       "    \"unexpected_index_list\": [],\n",
       "    \"unexpected_index_query\": \"df.filter(items=[], axis=0)\"\n",
       "  },\n",
       "  \"meta\": {},\n",
       "  \"exception_info\": {\n",
       "    \"raised_exception\": false,\n",
       "    \"exception_traceback\": null,\n",
       "    \"exception_message\": null\n",
       "  }\n",
       "}"
      ]
     },
     "execution_count": 4,
     "metadata": {},
     "output_type": "execute_result"
    }
   ],
   "source": [
    "validator.expect_column_values_to_not_be_null(column='Account No',result_format={'result_format': 'COMPLETE'})"
   ]
  },
  {
   "cell_type": "markdown",
   "id": "d3d94919",
   "metadata": {},
   "source": [
    "### Expectation 2 ----> Email id Validation(Should have @ and .) "
   ]
  },
  {
   "cell_type": "code",
   "execution_count": 5,
   "id": "aa430c77",
   "metadata": {},
   "outputs": [
    {
     "data": {
      "application/vnd.jupyter.widget-view+json": {
       "model_id": "7ade1a4275b1423d9f74d4f4f3d9bfaa",
       "version_major": 2,
       "version_minor": 0
      },
      "text/plain": [
       "Calculating Metrics:   0%|          | 0/10 [00:00<?, ?it/s]"
      ]
     },
     "metadata": {},
     "output_type": "display_data"
    },
    {
     "data": {
      "text/plain": [
       "{\n",
       "  \"success\": true,\n",
       "  \"result\": {\n",
       "    \"element_count\": 900,\n",
       "    \"unexpected_count\": 0,\n",
       "    \"unexpected_percent\": 0.0,\n",
       "    \"partial_unexpected_list\": [],\n",
       "    \"missing_count\": 0,\n",
       "    \"missing_percent\": 0.0,\n",
       "    \"unexpected_percent_total\": 0.0,\n",
       "    \"unexpected_percent_nonmissing\": 0.0,\n",
       "    \"partial_unexpected_index_list\": [],\n",
       "    \"partial_unexpected_counts\": [],\n",
       "    \"unexpected_list\": [],\n",
       "    \"unexpected_index_list\": [],\n",
       "    \"unexpected_index_query\": \"df.filter(items=[], axis=0)\"\n",
       "  },\n",
       "  \"meta\": {},\n",
       "  \"exception_info\": {\n",
       "    \"raised_exception\": false,\n",
       "    \"exception_traceback\": null,\n",
       "    \"exception_message\": null\n",
       "  }\n",
       "}"
      ]
     },
     "execution_count": 5,
     "metadata": {},
     "output_type": "execute_result"
    }
   ],
   "source": [
    "email_pattern = '[a-z0-9]+@[a-z]+\\.[a-z]{2,3}'\n",
    "validator.expect_column_values_to_match_regex('Email',email_pattern,result_format={'result_format': 'COMPLETE'})"
   ]
  },
  {
   "cell_type": "markdown",
   "id": "19aaaa9b",
   "metadata": {},
   "source": [
    "### Expectation 3 ----> Unique Email ids check "
   ]
  },
  {
   "cell_type": "code",
   "execution_count": 6,
   "id": "9f7e5f9e",
   "metadata": {},
   "outputs": [
    {
     "data": {
      "application/vnd.jupyter.widget-view+json": {
       "model_id": "7445719907cc4b3d98cb98a4c5775d13",
       "version_major": 2,
       "version_minor": 0
      },
      "text/plain": [
       "Calculating Metrics:   0%|          | 0/10 [00:00<?, ?it/s]"
      ]
     },
     "metadata": {},
     "output_type": "display_data"
    },
    {
     "data": {
      "text/plain": [
       "{\n",
       "  \"success\": true,\n",
       "  \"result\": {\n",
       "    \"element_count\": 900,\n",
       "    \"unexpected_count\": 0,\n",
       "    \"unexpected_percent\": 0.0,\n",
       "    \"partial_unexpected_list\": [],\n",
       "    \"missing_count\": 0,\n",
       "    \"missing_percent\": 0.0,\n",
       "    \"unexpected_percent_total\": 0.0,\n",
       "    \"unexpected_percent_nonmissing\": 0.0,\n",
       "    \"partial_unexpected_index_list\": [],\n",
       "    \"partial_unexpected_counts\": [],\n",
       "    \"unexpected_list\": [],\n",
       "    \"unexpected_index_list\": [],\n",
       "    \"unexpected_index_query\": \"df.filter(items=[], axis=0)\"\n",
       "  },\n",
       "  \"meta\": {},\n",
       "  \"exception_info\": {\n",
       "    \"raised_exception\": false,\n",
       "    \"exception_traceback\": null,\n",
       "    \"exception_message\": null\n",
       "  }\n",
       "}"
      ]
     },
     "execution_count": 6,
     "metadata": {},
     "output_type": "execute_result"
    }
   ],
   "source": [
    "validator.expect_column_values_to_be_unique(column='Email', result_format={'result_format': 'COMPLETE'})"
   ]
  },
  {
   "cell_type": "markdown",
   "id": "e01653a3",
   "metadata": {},
   "source": [
    "### Expectation 4 ----> Phone number length should be 10."
   ]
  },
  {
   "cell_type": "code",
   "execution_count": 7,
   "id": "882d903a",
   "metadata": {},
   "outputs": [
    {
     "data": {
      "application/vnd.jupyter.widget-view+json": {
       "model_id": "8d8a1a8dc4364801873204201c44fe2c",
       "version_major": 2,
       "version_minor": 0
      },
      "text/plain": [
       "Calculating Metrics:   0%|          | 0/9 [00:00<?, ?it/s]"
      ]
     },
     "metadata": {},
     "output_type": "display_data"
    },
    {
     "data": {
      "text/plain": [
       "{\n",
       "  \"success\": true,\n",
       "  \"result\": {\n",
       "    \"element_count\": 900,\n",
       "    \"unexpected_count\": 0,\n",
       "    \"unexpected_percent\": 0.0,\n",
       "    \"partial_unexpected_list\": [],\n",
       "    \"missing_count\": 0,\n",
       "    \"missing_percent\": 0.0,\n",
       "    \"unexpected_percent_total\": 0.0,\n",
       "    \"unexpected_percent_nonmissing\": 0.0\n",
       "  },\n",
       "  \"meta\": {},\n",
       "  \"exception_info\": {\n",
       "    \"raised_exception\": false,\n",
       "    \"exception_traceback\": null,\n",
       "    \"exception_message\": null\n",
       "  }\n",
       "}"
      ]
     },
     "execution_count": 7,
     "metadata": {},
     "output_type": "execute_result"
    }
   ],
   "source": [
    "validator.expect_column_value_lengths_to_equal(column='Contact Number', value=10)"
   ]
  },
  {
   "cell_type": "markdown",
   "id": "669affd0",
   "metadata": {},
   "source": [
    "### Expectation 5 ----> Balance amount should not be a negative value."
   ]
  },
  {
   "cell_type": "code",
   "execution_count": 8,
   "id": "a730097a",
   "metadata": {},
   "outputs": [
    {
     "data": {
      "application/vnd.jupyter.widget-view+json": {
       "model_id": "39980c9de66b4957a8fde54dc0183146",
       "version_major": 2,
       "version_minor": 0
      },
      "text/plain": [
       "Calculating Metrics:   0%|          | 0/10 [00:00<?, ?it/s]"
      ]
     },
     "metadata": {},
     "output_type": "display_data"
    },
    {
     "data": {
      "text/plain": [
       "{\n",
       "  \"success\": true,\n",
       "  \"result\": {\n",
       "    \"element_count\": 900,\n",
       "    \"unexpected_count\": 0,\n",
       "    \"unexpected_percent\": 0.0,\n",
       "    \"partial_unexpected_list\": [],\n",
       "    \"missing_count\": 0,\n",
       "    \"missing_percent\": 0.0,\n",
       "    \"unexpected_percent_total\": 0.0,\n",
       "    \"unexpected_percent_nonmissing\": 0.0,\n",
       "    \"partial_unexpected_index_list\": [],\n",
       "    \"partial_unexpected_counts\": [],\n",
       "    \"unexpected_list\": [],\n",
       "    \"unexpected_index_list\": [],\n",
       "    \"unexpected_index_query\": \"df.filter(items=[], axis=0)\"\n",
       "  },\n",
       "  \"meta\": {},\n",
       "  \"exception_info\": {\n",
       "    \"raised_exception\": false,\n",
       "    \"exception_traceback\": null,\n",
       "    \"exception_message\": null\n",
       "  }\n",
       "}"
      ]
     },
     "execution_count": 8,
     "metadata": {},
     "output_type": "execute_result"
    }
   ],
   "source": [
    "decimal_pattern = '^[0-9]\\d{0,9}(\\.\\d{1,15})?%?$'\n",
    "validator.expect_column_values_to_match_regex('BALANCE AMT',decimal_pattern,result_format={'result_format': 'COMPLETE'})"
   ]
  },
  {
   "cell_type": "markdown",
   "id": "e8e042b1",
   "metadata": {},
   "source": [
    "### Expectation 6 ----> Balance amount Range(Min:500 and Max:500000000)"
   ]
  },
  {
   "cell_type": "code",
   "execution_count": 9,
   "id": "42b94fa8",
   "metadata": {},
   "outputs": [
    {
     "data": {
      "application/vnd.jupyter.widget-view+json": {
       "model_id": "f3b73224536d46da82bf00db140f7fef",
       "version_major": 2,
       "version_minor": 0
      },
      "text/plain": [
       "Calculating Metrics:   0%|          | 0/10 [00:00<?, ?it/s]"
      ]
     },
     "metadata": {},
     "output_type": "display_data"
    },
    {
     "data": {
      "text/plain": [
       "{\n",
       "  \"success\": true,\n",
       "  \"result\": {\n",
       "    \"element_count\": 900,\n",
       "    \"unexpected_count\": 0,\n",
       "    \"unexpected_percent\": 0.0,\n",
       "    \"partial_unexpected_list\": [],\n",
       "    \"missing_count\": 0,\n",
       "    \"missing_percent\": 0.0,\n",
       "    \"unexpected_percent_total\": 0.0,\n",
       "    \"unexpected_percent_nonmissing\": 0.0,\n",
       "    \"partial_unexpected_index_list\": [],\n",
       "    \"partial_unexpected_counts\": [],\n",
       "    \"unexpected_list\": [],\n",
       "    \"unexpected_index_list\": [],\n",
       "    \"unexpected_index_query\": \"df.filter(items=[], axis=0)\"\n",
       "  },\n",
       "  \"meta\": {},\n",
       "  \"exception_info\": {\n",
       "    \"raised_exception\": false,\n",
       "    \"exception_traceback\": null,\n",
       "    \"exception_message\": null\n",
       "  }\n",
       "}"
      ]
     },
     "execution_count": 9,
     "metadata": {},
     "output_type": "execute_result"
    }
   ],
   "source": [
    "validator.expect_column_values_to_be_between(column='BALANCE AMT', max_value=500000000, min_value=500, result_format={'result_format': 'COMPLETE'})"
   ]
  },
  {
   "cell_type": "markdown",
   "id": "088721e9",
   "metadata": {},
   "source": [
    "### Expectation 7 ----> Transaction Date should not be NULL."
   ]
  },
  {
   "cell_type": "code",
   "execution_count": 10,
   "id": "bdf94f82",
   "metadata": {},
   "outputs": [
    {
     "data": {
      "application/vnd.jupyter.widget-view+json": {
       "model_id": "db98ec9c4f38429a9710bf3e0dfced56",
       "version_major": 2,
       "version_minor": 0
      },
      "text/plain": [
       "Calculating Metrics:   0%|          | 0/8 [00:00<?, ?it/s]"
      ]
     },
     "metadata": {},
     "output_type": "display_data"
    },
    {
     "data": {
      "text/plain": [
       "{\n",
       "  \"success\": true,\n",
       "  \"result\": {\n",
       "    \"element_count\": 900,\n",
       "    \"unexpected_count\": 0,\n",
       "    \"unexpected_percent\": 0.0,\n",
       "    \"partial_unexpected_list\": [],\n",
       "    \"partial_unexpected_index_list\": [],\n",
       "    \"partial_unexpected_counts\": [],\n",
       "    \"unexpected_list\": [],\n",
       "    \"unexpected_index_list\": [],\n",
       "    \"unexpected_index_query\": \"df.filter(items=[], axis=0)\"\n",
       "  },\n",
       "  \"meta\": {},\n",
       "  \"exception_info\": {\n",
       "    \"raised_exception\": false,\n",
       "    \"exception_traceback\": null,\n",
       "    \"exception_message\": null\n",
       "  }\n",
       "}"
      ]
     },
     "execution_count": 10,
     "metadata": {},
     "output_type": "execute_result"
    }
   ],
   "source": [
    "validator.expect_column_values_to_not_be_null(column='DATE', result_format={'result_format': 'COMPLETE'})"
   ]
  },
  {
   "cell_type": "markdown",
   "id": "89029cac",
   "metadata": {},
   "source": [
    "### Expectation 8 ----> Date format should be according to the bank set standards.(DD-MM-YYYY)"
   ]
  },
  {
   "cell_type": "code",
   "execution_count": 11,
   "id": "e2993816",
   "metadata": {},
   "outputs": [
    {
     "data": {
      "application/vnd.jupyter.widget-view+json": {
       "model_id": "c348d911dfbf42498fc2d6eed9827a38",
       "version_major": 2,
       "version_minor": 0
      },
      "text/plain": [
       "Calculating Metrics:   0%|          | 0/10 [00:00<?, ?it/s]"
      ]
     },
     "metadata": {},
     "output_type": "display_data"
    },
    {
     "data": {
      "text/plain": [
       "{\n",
       "  \"success\": true,\n",
       "  \"result\": {\n",
       "    \"element_count\": 900,\n",
       "    \"unexpected_count\": 0,\n",
       "    \"unexpected_percent\": 0.0,\n",
       "    \"partial_unexpected_list\": [],\n",
       "    \"missing_count\": 0,\n",
       "    \"missing_percent\": 0.0,\n",
       "    \"unexpected_percent_total\": 0.0,\n",
       "    \"unexpected_percent_nonmissing\": 0.0,\n",
       "    \"partial_unexpected_index_list\": [],\n",
       "    \"partial_unexpected_counts\": [],\n",
       "    \"unexpected_list\": [],\n",
       "    \"unexpected_index_list\": [],\n",
       "    \"unexpected_index_query\": \"df.filter(items=[], axis=0)\"\n",
       "  },\n",
       "  \"meta\": {},\n",
       "  \"exception_info\": {\n",
       "    \"raised_exception\": false,\n",
       "    \"exception_traceback\": null,\n",
       "    \"exception_message\": null\n",
       "  }\n",
       "}"
      ]
     },
     "execution_count": 11,
     "metadata": {},
     "output_type": "execute_result"
    }
   ],
   "source": [
    "date_pattern = '(^0[1-9]|[12][0-9]|3[01])-(0[1-9]|1[0-2])-(\\d{4}$)'\n",
    "validator.expect_column_values_to_match_regex('DATE',date_pattern,result_format={'result_format': 'COMPLETE'})"
   ]
  },
  {
   "cell_type": "markdown",
   "id": "229f70b0",
   "metadata": {},
   "source": [
    "## Review & Save Your Expectations\n",
    "\n",
    "Let's save the expectation suite as a JSON file in the `great_expectations/expectations` directory of your project.\n",
    "\n",
    "Let's now rebuild your Data Docs, which helps you communicate about your data with both machines and humans."
   ]
  },
  {
   "cell_type": "code",
   "execution_count": 12,
   "id": "fa251e8b",
   "metadata": {},
   "outputs": [
    {
     "name": "stdout",
     "output_type": "stream",
     "text": [
      "2023-08-28T16:50:42+0530 - INFO - \t10 expectation(s) included in expectation_suite. result_format settings filtered.\n",
      "{\n",
      "  \"expectation_suite_name\": \"bank_expectations\",\n",
      "  \"ge_cloud_id\": null,\n",
      "  \"expectations\": [\n",
      "    {\n",
      "      \"expectation_type\": \"expect_table_row_count_to_be_between\",\n",
      "      \"kwargs\": {\n",
      "        \"max_value\": 900,\n",
      "        \"min_value\": 900\n",
      "      },\n",
      "      \"meta\": {}\n",
      "    },\n",
      "    {\n",
      "      \"expectation_type\": \"expect_table_columns_to_match_set\",\n",
      "      \"kwargs\": {\n",
      "        \"column_set\": [\n",
      "          \"First Name\",\n",
      "          \"TRANSACTION DETAILS\",\n",
      "          \"WITHDRAWAL AMT\",\n",
      "          \"CHQ.NO.\",\n",
      "          \"VALUE DATE\",\n",
      "          \"DATE\",\n",
      "          \"DEPOSIT AMT\",\n",
      "          \"Account No\",\n",
      "          \"BALANCE AMT\",\n",
      "          \"Score\",\n",
      "          \"Email\",\n",
      "          \"Contact Number\",\n",
      "          \"Last Name\"\n",
      "        ]\n",
      "      },\n",
      "      \"meta\": {}\n",
      "    },\n",
      "    {\n",
      "      \"expectation_type\": \"expect_column_values_to_not_be_null\",\n",
      "      \"kwargs\": {\n",
      "        \"column\": \"Account No\"\n",
      "      },\n",
      "      \"meta\": {}\n",
      "    },\n",
      "    {\n",
      "      \"expectation_type\": \"expect_column_values_to_match_regex\",\n",
      "      \"kwargs\": {\n",
      "        \"column\": \"Email\",\n",
      "        \"regex\": \"[a-z0-9]+@[a-z]+\\\\.[a-z]{2,3}\"\n",
      "      },\n",
      "      \"meta\": {}\n",
      "    },\n",
      "    {\n",
      "      \"expectation_type\": \"expect_column_values_to_be_unique\",\n",
      "      \"kwargs\": {\n",
      "        \"column\": \"Email\"\n",
      "      },\n",
      "      \"meta\": {}\n",
      "    },\n",
      "    {\n",
      "      \"expectation_type\": \"expect_column_value_lengths_to_equal\",\n",
      "      \"kwargs\": {\n",
      "        \"column\": \"Contact Number\",\n",
      "        \"value\": 10\n",
      "      },\n",
      "      \"meta\": {}\n",
      "    },\n",
      "    {\n",
      "      \"expectation_type\": \"expect_column_values_to_match_regex\",\n",
      "      \"kwargs\": {\n",
      "        \"column\": \"BALANCE AMT\",\n",
      "        \"regex\": \"^[0-9]\\\\d{0,9}(\\\\.\\\\d{1,15})?%?$\"\n",
      "      },\n",
      "      \"meta\": {}\n",
      "    },\n",
      "    {\n",
      "      \"expectation_type\": \"expect_column_values_to_be_between\",\n",
      "      \"kwargs\": {\n",
      "        \"column\": \"BALANCE AMT\",\n",
      "        \"max_value\": 500000000,\n",
      "        \"min_value\": 500\n",
      "      },\n",
      "      \"meta\": {}\n",
      "    },\n",
      "    {\n",
      "      \"expectation_type\": \"expect_column_values_to_not_be_null\",\n",
      "      \"kwargs\": {\n",
      "        \"column\": \"DATE\"\n",
      "      },\n",
      "      \"meta\": {}\n",
      "    },\n",
      "    {\n",
      "      \"expectation_type\": \"expect_column_values_to_match_regex\",\n",
      "      \"kwargs\": {\n",
      "        \"column\": \"DATE\",\n",
      "        \"regex\": \"(^0[1-9]|[12][0-9]|3[01])-(0[1-9]|1[0-2])-(\\\\d{4}$)\"\n",
      "      },\n",
      "      \"meta\": {}\n",
      "    }\n",
      "  ],\n",
      "  \"data_asset_type\": null,\n",
      "  \"meta\": {\n",
      "    \"citations\": [\n",
      "      {\n",
      "        \"citation_date\": \"2023-08-28T11:12:14.632558Z\",\n",
      "        \"comment\": \"Created by effective Rule-Based Profiler of OnboardingDataAssistant with the configuration included.\\n\"\n",
      "      },\n",
      "      {\n",
      "        \"batch_request\": {\n",
      "          \"data_asset_name\": \"Bank Transaction Data.xlsx\",\n",
      "          \"data_connector_name\": \"default_inferred_data_connector_name\",\n",
      "          \"datasource_name\": \"bank_datasource\",\n",
      "          \"limit\": 1000\n",
      "        },\n",
      "        \"citation_date\": \"2023-08-28T11:12:59.557698Z\",\n",
      "        \"comment\": \"Created suite added via CLI\"\n",
      "      }\n",
      "    ],\n",
      "    \"great_expectations_version\": \"0.17.8\"\n",
      "  }\n",
      "}\n",
      "2023-08-28T16:50:42+0530 - INFO - \t10 expectation(s) included in expectation_suite. result_format settings filtered.\n",
      "2023-08-28T16:50:42+0530 - INFO - \t10 expectation(s) included in expectation_suite.\n"
     ]
    },
    {
     "data": {
      "application/vnd.jupyter.widget-view+json": {
       "model_id": "372b04a386154faca512900d6248be81",
       "version_major": 2,
       "version_minor": 0
      },
      "text/plain": [
       "Calculating Metrics:   0%|          | 0/50 [00:00<?, ?it/s]"
      ]
     },
     "metadata": {},
     "output_type": "display_data"
    }
   ],
   "source": [
    "print(validator.get_expectation_suite(discard_failed_expectations=False))\n",
    "validator.save_expectation_suite(discard_failed_expectations=False)\n",
    "\n",
    "checkpoint_config = {\n",
    "    \"class_name\": \"SimpleCheckpoint\",\n",
    "    \"validations\": [\n",
    "        {\n",
    "            \"batch_request\": batch_request,\n",
    "            \"expectation_suite_name\": expectation_suite_name\n",
    "        }\n",
    "    ]\n",
    "}\n",
    "checkpoint = SimpleCheckpoint(\n",
    "    f\"{validator.active_batch_definition.data_asset_name}_{expectation_suite_name}\",\n",
    "    context,\n",
    "    **checkpoint_config\n",
    ")\n",
    "checkpoint_result = checkpoint.run()\n",
    "\n",
    "context.build_data_docs()\n",
    "\n",
    "validation_result_identifier = checkpoint_result.list_validation_result_identifiers()[0]\n",
    "context.open_data_docs(resource_identifier=validation_result_identifier)"
   ]
  },
  {
   "cell_type": "code",
   "execution_count": null,
   "id": "0172b21f",
   "metadata": {},
   "outputs": [],
   "source": []
  }
 ],
 "metadata": {
  "kernelspec": {
   "display_name": "Python 3 (ipykernel)",
   "language": "python",
   "name": "python3"
  },
  "language_info": {
   "codemirror_mode": {
    "name": "ipython",
    "version": 3
   },
   "file_extension": ".py",
   "mimetype": "text/x-python",
   "name": "python",
   "nbconvert_exporter": "python",
   "pygments_lexer": "ipython3",
   "version": "3.11.3"
  }
 },
 "nbformat": 4,
 "nbformat_minor": 5
}
