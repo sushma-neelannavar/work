{
 "cells": [
  {
   "cell_type": "markdown",
   "id": "a69b076c",
   "metadata": {},
   "source": [
    "# Create Your Checkpoint\n",
    "Use this notebook to configure a new Checkpoint and add it to your project:\n",
    "\n",
    "**Checkpoint Name**: `first_checkpoint`"
   ]
  },
  {
   "cell_type": "code",
   "execution_count": 110,
   "id": "945def18",
   "metadata": {},
   "outputs": [],
   "source": [
    "from ruamel.yaml import YAML\n",
    "import great_expectations as gx\n",
    "from pprint import pprint\n",
    "\n",
    "yaml = YAML()\n",
    "context = gx.get_context()"
   ]
  },
  {
   "cell_type": "markdown",
   "id": "6baa1aca",
   "metadata": {},
   "source": [
    "# Create a Checkpoint Configuration\n",
    "\n",
    "**If you are new to Great Expectations or the Checkpoint feature**, you should start with SimpleCheckpoint because it includes default configurations like a default list of post validation actions.\n",
    "\n",
    "In the cell below we have created a sample Checkpoint configuration using **your configuration** and **SimpleCheckpoint** to run a single validation of a single Expectation Suite against a single Batch of data.\n",
    "\n",
    "To keep it simple, we are just choosing the first available instance of each of the following items you have configured in your Data Context:\n",
    "* Datasource\n",
    "* DataConnector\n",
    "* DataAsset\n",
    "* Partition\n",
    "* Expectation Suite\n",
    "\n",
    "Of course this is purely an example, you may edit this to your heart's content.\n",
    "\n",
    "**My configuration is not so simple - are there more advanced options?**\n",
    "\n",
    "Glad you asked! Checkpoints are very versatile. For example, you can validate many Batches in a single Checkpoint, validate Batches against different Expectation Suites or against many Expectation Suites, control the specific post-validation actions based on Expectation Suite / Batch / results of validation among other features. Check out our documentation on Checkpoints for more details and for instructions on how to implement other more advanced features including using the **Checkpoint** class:\n",
    "- https://docs.greatexpectations.io/docs/reference/checkpoints_and_actions\n",
    "- https://docs.greatexpectations.io/docs/guides/validation/checkpoints/how_to_create_a_new_checkpoint\n",
    "- https://docs.greatexpectations.io/docs/guides/validation/checkpoints/how_to_configure_a_new_checkpoint_using_test_yaml_config"
   ]
  },
  {
   "cell_type": "code",
   "execution_count": 119,
   "id": "24235d91",
   "metadata": {},
   "outputs": [
    {
     "name": "stdout",
     "output_type": "stream",
     "text": [
      "\n",
      "name: first_checkpoint\n",
      "config_version: 1.0\n",
      "class_name: SimpleCheckpoint\n",
      "run_name_template: \"%Y%m%d-%H%M%S-my-run-name-template\"\n",
      "validations:\n",
      "  - batch_request:\n",
      "      datasource_name: r\"C:\\Users\\sushma.n\\OneDrive - Incedo Technology Solutions Ltd\\Desktop\\Assignments\\GreatExpectations\\data\"\n",
      "      data_connector_name: default_inferred_data_connector_name\n",
      "      data_asset_name: sampleData.csv\n",
      "      data_connector_query:\n",
      "        index: -1\n",
      "    expectation_suite_name: expectations_suit\n",
      "\n"
     ]
    }
   ],
   "source": [
    "my_checkpoint_name = \"first_checkpoint\"  # This was populated from your CLI command.\n",
    "\n",
    "yaml_config = f\"\"\"\n",
    "name: {my_checkpoint_name}\n",
    "config_version: 1.0\n",
    "class_name: SimpleCheckpoint\n",
    "run_name_template: \"%Y%m%d-%H%M%S-my-run-name-template\"\n",
    "validations:\n",
    "  - batch_request:\n",
    "      datasource_name: r\"C:\\\\Users\\\\sushma.n\\\\OneDrive - Incedo Technology Solutions Ltd\\\\Desktop\\\\Assignments\\\\GreatExpectations\\\\data\"\n",
    "      data_connector_name: default_inferred_data_connector_name\n",
    "      data_asset_name: sampleData.csv\n",
    "      data_connector_query:\n",
    "        index: -1\n",
    "    expectation_suite_name: expectations_suit\n",
    "\"\"\"\n",
    "print(yaml_config)"
   ]
  },
  {
   "cell_type": "markdown",
   "id": "010f9f1e",
   "metadata": {},
   "source": [
    "# Customize Your Configuration\n",
    "The following cells show examples for listing your current configuration. You can replace values in the sample configuration with these values to customize your Checkpoint."
   ]
  },
  {
   "cell_type": "code",
   "execution_count": 120,
   "id": "5c57b8ae",
   "metadata": {},
   "outputs": [
    {
     "name": "stdout",
     "output_type": "stream",
     "text": [
      "{'C:\\\\Users\\\\sushma.n\\\\OneDrive - Incedo Technology Solutions Ltd\\\\Desktop\\\\Assignments\\\\GreatExpectations\\\\data': {'default_inferred_data_connector_name': ['sampleData.xlsx',\n",
      "                                                                                                                                                             'testData.csv'],\n",
      "                                                                                                                    'default_runtime_data_connector_name': ['my_runtime_asset_name']}}\n"
     ]
    }
   ],
   "source": [
    "# Run this cell to print out the names of your Datasources, Data Connectors and Data Assets\n",
    "pprint(context.get_available_data_asset_names())"
   ]
  },
  {
   "cell_type": "code",
   "execution_count": 121,
   "id": "105da75c",
   "metadata": {},
   "outputs": [
    {
     "data": {
      "text/plain": [
       "['expectations_suit']"
      ]
     },
     "execution_count": 121,
     "metadata": {},
     "output_type": "execute_result"
    }
   ],
   "source": [
    "context.list_expectation_suite_names()"
   ]
  },
  {
   "cell_type": "markdown",
   "id": "ffece068",
   "metadata": {},
   "source": [
    "# Test Your Checkpoint Configuration\n",
    "Here we will test your Checkpoint configuration to make sure it is valid.\n",
    "\n",
    "This `test_yaml_config()` function is meant to enable fast dev loops. If your configuration is correct, this cell will show a message that you successfully instantiated a Checkpoint. You can continually edit your Checkpoint config yaml and re-run the cell to check until the new config is valid.\n",
    "\n",
    "If you instead wish to use python instead of yaml to configure your Checkpoint, you can use `context.add_checkpoint()` and specify all the required parameters."
   ]
  },
  {
   "cell_type": "code",
   "execution_count": 122,
   "id": "71915236",
   "metadata": {},
   "outputs": [
    {
     "name": "stdout",
     "output_type": "stream",
     "text": [
      "Attempting to instantiate class from config...\n",
      "\tInstantiating as a SimpleCheckpoint, since class_name is SimpleCheckpoint\n",
      "\tSuccessfully instantiated SimpleCheckpoint\n",
      "\n",
      "\n",
      "Checkpoint class name: SimpleCheckpoint\n"
     ]
    }
   ],
   "source": [
    "my_checkpoint = context.test_yaml_config(yaml_config=yaml_config)"
   ]
  },
  {
   "cell_type": "markdown",
   "id": "beade2ee",
   "metadata": {},
   "source": [
    "# Review Your Checkpoint\n",
    "\n",
    "You can run the following cell to print out the full yaml configuration. For example, if you used **SimpleCheckpoint**  this will show you the default action list."
   ]
  },
  {
   "cell_type": "code",
   "execution_count": 123,
   "id": "a598ec9f",
   "metadata": {},
   "outputs": [
    {
     "name": "stdout",
     "output_type": "stream",
     "text": [
      "name: first_checkpoint\n",
      "config_version: 1.0\n",
      "template_name:\n",
      "module_name: great_expectations.checkpoint\n",
      "class_name: SimpleCheckpoint\n",
      "run_name_template: '%Y%m%d-%H%M%S-my-run-name-template'\n",
      "expectation_suite_name:\n",
      "batch_request: {}\n",
      "action_list:\n",
      "  - name: store_validation_result\n",
      "    action:\n",
      "      class_name: StoreValidationResultAction\n",
      "  - name: store_evaluation_params\n",
      "    action:\n",
      "      class_name: StoreEvaluationParametersAction\n",
      "  - name: update_data_docs\n",
      "    action:\n",
      "      class_name: UpdateDataDocsAction\n",
      "evaluation_parameters: {}\n",
      "runtime_configuration: {}\n",
      "validations:\n",
      "  - batch_request:\n",
      "      datasource_name: r\"C:\\Users\\sushma.n\\OneDrive - Incedo Technology Solutions\n",
      "        Ltd\\Desktop\\Assignments\\GreatExpectations\\data\"\n",
      "      data_connector_name: default_inferred_data_connector_name\n",
      "      data_asset_name: sampleData.csv\n",
      "      data_connector_query:\n",
      "        index: -1\n",
      "    expectation_suite_name: expectations_suit\n",
      "profilers: []\n",
      "ge_cloud_id:\n",
      "expectation_suite_ge_cloud_id:\n",
      "\n"
     ]
    }
   ],
   "source": [
    "print(my_checkpoint.get_config(mode=\"yaml\"))"
   ]
  },
  {
   "cell_type": "markdown",
   "id": "bad0b6ee",
   "metadata": {},
   "source": [
    "# Add Your Checkpoint\n",
    "\n",
    "Run the following cell to save this Checkpoint to your Checkpoint Store."
   ]
  },
  {
   "cell_type": "code",
   "execution_count": 124,
   "id": "000e66ea",
   "metadata": {},
   "outputs": [
    {
     "data": {
      "text/plain": [
       "{\n",
       "  \"action_list\": [\n",
       "    {\n",
       "      \"name\": \"store_validation_result\",\n",
       "      \"action\": {\n",
       "        \"class_name\": \"StoreValidationResultAction\"\n",
       "      }\n",
       "    },\n",
       "    {\n",
       "      \"name\": \"store_evaluation_params\",\n",
       "      \"action\": {\n",
       "        \"class_name\": \"StoreEvaluationParametersAction\"\n",
       "      }\n",
       "    },\n",
       "    {\n",
       "      \"name\": \"update_data_docs\",\n",
       "      \"action\": {\n",
       "        \"class_name\": \"UpdateDataDocsAction\"\n",
       "      }\n",
       "    }\n",
       "  ],\n",
       "  \"batch_request\": {},\n",
       "  \"class_name\": \"SimpleCheckpoint\",\n",
       "  \"config_version\": 1.0,\n",
       "  \"evaluation_parameters\": {},\n",
       "  \"module_name\": \"great_expectations.checkpoint\",\n",
       "  \"name\": \"first_checkpoint\",\n",
       "  \"profilers\": [],\n",
       "  \"run_name_template\": \"%Y%m%d-%H%M%S-my-run-name-template\",\n",
       "  \"runtime_configuration\": {},\n",
       "  \"validations\": [\n",
       "    {\n",
       "      \"batch_request\": {\n",
       "        \"datasource_name\": \"r\\\"C:\\\\Users\\\\sushma.n\\\\OneDrive - Incedo Technology Solutions Ltd\\\\Desktop\\\\Assignments\\\\GreatExpectations\\\\data\\\"\",\n",
       "        \"data_connector_name\": \"default_inferred_data_connector_name\",\n",
       "        \"data_asset_name\": \"sampleData.csv\",\n",
       "        \"data_connector_query\": {\n",
       "          \"index\": -1\n",
       "        }\n",
       "      },\n",
       "      \"expectation_suite_name\": \"expectations_suit\"\n",
       "    }\n",
       "  ]\n",
       "}"
      ]
     },
     "execution_count": 124,
     "metadata": {},
     "output_type": "execute_result"
    }
   ],
   "source": [
    "context.add_checkpoint(**yaml.load(yaml_config))"
   ]
  },
  {
   "cell_type": "markdown",
   "id": "80fd8647",
   "metadata": {},
   "source": [
    "# Run Your Checkpoint & Open Data Docs(Optional)\n",
    "\n",
    "You may wish to run the Checkpoint now and review its output in Data Docs. If so uncomment and run the following cell."
   ]
  },
  {
   "cell_type": "code",
   "execution_count": 125,
   "id": "fc1853e9",
   "metadata": {},
   "outputs": [
    {
     "ename": "DatasourceError",
     "evalue": "Cannot initialize datasource r\"C:\\Users\\sushma.n\\OneDrive - Incedo Technology Solutions Ltd\\Desktop\\Assignments\\GreatExpectations\\data\", error: The given datasource could not be retrieved from the DataContext; please confirm that your configuration is accurate.",
     "output_type": "error",
     "traceback": [
      "\u001b[1;31m---------------------------------------------------------------------------\u001b[0m",
      "\u001b[1;31mDatasourceError\u001b[0m                           Traceback (most recent call last)",
      "Cell \u001b[1;32mIn[125], line 1\u001b[0m\n\u001b[1;32m----> 1\u001b[0m context\u001b[38;5;241m.\u001b[39mrun_checkpoint(checkpoint_name\u001b[38;5;241m=\u001b[39mmy_checkpoint_name)\n\u001b[0;32m      2\u001b[0m context\u001b[38;5;241m.\u001b[39mopen_data_docs()\n",
      "File \u001b[1;32m~\\AppData\\Local\\anaconda3\\Lib\\site-packages\\great_expectations\\core\\usage_statistics\\usage_statistics.py:260\u001b[0m, in \u001b[0;36musage_statistics_enabled_method.<locals>.usage_statistics_wrapped_method\u001b[1;34m(*args, **kwargs)\u001b[0m\n\u001b[0;32m    257\u001b[0m         args_payload \u001b[38;5;241m=\u001b[39m args_payload_fn(\u001b[38;5;241m*\u001b[39margs, \u001b[38;5;241m*\u001b[39m\u001b[38;5;241m*\u001b[39mkwargs) \u001b[38;5;129;01mor\u001b[39;00m {}\n\u001b[0;32m    258\u001b[0m         nested_update(event_payload, args_payload)\n\u001b[1;32m--> 260\u001b[0m     result \u001b[38;5;241m=\u001b[39m func(\u001b[38;5;241m*\u001b[39margs, \u001b[38;5;241m*\u001b[39m\u001b[38;5;241m*\u001b[39mkwargs)\n\u001b[0;32m    261\u001b[0m     message[\u001b[38;5;124m\"\u001b[39m\u001b[38;5;124msuccess\u001b[39m\u001b[38;5;124m\"\u001b[39m] \u001b[38;5;241m=\u001b[39m \u001b[38;5;28;01mTrue\u001b[39;00m\n\u001b[0;32m    262\u001b[0m \u001b[38;5;28;01mexcept\u001b[39;00m \u001b[38;5;167;01mException\u001b[39;00m:\n",
      "File \u001b[1;32m~\\AppData\\Local\\anaconda3\\Lib\\site-packages\\great_expectations\\data_context\\data_context\\abstract_data_context.py:2447\u001b[0m, in \u001b[0;36mAbstractDataContext.run_checkpoint\u001b[1;34m(***failed resolving arguments***)\u001b[0m\n\u001b[0;32m   2444\u001b[0m \u001b[38;5;28;01mdel\u001b[39;00m ge_cloud_id\n\u001b[0;32m   2445\u001b[0m \u001b[38;5;28;01mdel\u001b[39;00m expectation_suite_ge_cloud_id\n\u001b[1;32m-> 2447\u001b[0m \u001b[38;5;28;01mreturn\u001b[39;00m \u001b[38;5;28mself\u001b[39m\u001b[38;5;241m.\u001b[39m_run_checkpoint(\n\u001b[0;32m   2448\u001b[0m     checkpoint_name\u001b[38;5;241m=\u001b[39mcheckpoint_name,\n\u001b[0;32m   2449\u001b[0m     \u001b[38;5;28mid\u001b[39m\u001b[38;5;241m=\u001b[39m\u001b[38;5;28mid\u001b[39m,\n\u001b[0;32m   2450\u001b[0m     template_name\u001b[38;5;241m=\u001b[39mtemplate_name,\n\u001b[0;32m   2451\u001b[0m     run_name_template\u001b[38;5;241m=\u001b[39mrun_name_template,\n\u001b[0;32m   2452\u001b[0m     expectation_suite_name\u001b[38;5;241m=\u001b[39mexpectation_suite_name,\n\u001b[0;32m   2453\u001b[0m     batch_request\u001b[38;5;241m=\u001b[39mbatch_request,\n\u001b[0;32m   2454\u001b[0m     action_list\u001b[38;5;241m=\u001b[39maction_list,\n\u001b[0;32m   2455\u001b[0m     evaluation_parameters\u001b[38;5;241m=\u001b[39mevaluation_parameters,\n\u001b[0;32m   2456\u001b[0m     runtime_configuration\u001b[38;5;241m=\u001b[39mruntime_configuration,\n\u001b[0;32m   2457\u001b[0m     validations\u001b[38;5;241m=\u001b[39mvalidations,\n\u001b[0;32m   2458\u001b[0m     profilers\u001b[38;5;241m=\u001b[39mprofilers,\n\u001b[0;32m   2459\u001b[0m     run_id\u001b[38;5;241m=\u001b[39mrun_id,\n\u001b[0;32m   2460\u001b[0m     run_name\u001b[38;5;241m=\u001b[39mrun_name,\n\u001b[0;32m   2461\u001b[0m     run_time\u001b[38;5;241m=\u001b[39mrun_time,\n\u001b[0;32m   2462\u001b[0m     result_format\u001b[38;5;241m=\u001b[39mresult_format,\n\u001b[0;32m   2463\u001b[0m     expectation_suite_ge_cloud_id\u001b[38;5;241m=\u001b[39mexpectation_suite_id,\n\u001b[0;32m   2464\u001b[0m     \u001b[38;5;241m*\u001b[39m\u001b[38;5;241m*\u001b[39mkwargs,\n\u001b[0;32m   2465\u001b[0m )\n",
      "File \u001b[1;32m~\\AppData\\Local\\anaconda3\\Lib\\site-packages\\great_expectations\\data_context\\data_context\\abstract_data_context.py:2491\u001b[0m, in \u001b[0;36mAbstractDataContext._run_checkpoint\u001b[1;34m(self, checkpoint_name, id, template_name, run_name_template, expectation_suite_name, batch_request, action_list, evaluation_parameters, runtime_configuration, validations, profilers, run_id, run_name, run_time, result_format, expectation_suite_ge_cloud_id, **kwargs)\u001b[0m\n\u001b[0;32m   2467\u001b[0m \u001b[38;5;28;01mdef\u001b[39;00m \u001b[38;5;21m_run_checkpoint\u001b[39m(  \u001b[38;5;66;03m# noqa: PLR0913\u001b[39;00m\n\u001b[0;32m   2468\u001b[0m     \u001b[38;5;28mself\u001b[39m,\n\u001b[0;32m   2469\u001b[0m     checkpoint_name: \u001b[38;5;28mstr\u001b[39m \u001b[38;5;241m|\u001b[39m \u001b[38;5;28;01mNone\u001b[39;00m \u001b[38;5;241m=\u001b[39m \u001b[38;5;28;01mNone\u001b[39;00m,\n\u001b[1;32m   (...)\u001b[0m\n\u001b[0;32m   2485\u001b[0m     \u001b[38;5;241m*\u001b[39m\u001b[38;5;241m*\u001b[39mkwargs,\n\u001b[0;32m   2486\u001b[0m ) \u001b[38;5;241m-\u001b[39m\u001b[38;5;241m>\u001b[39m CheckpointResult:\n\u001b[0;32m   2487\u001b[0m     checkpoint: Checkpoint \u001b[38;5;241m=\u001b[39m \u001b[38;5;28mself\u001b[39m\u001b[38;5;241m.\u001b[39mget_checkpoint(\n\u001b[0;32m   2488\u001b[0m         name\u001b[38;5;241m=\u001b[39mcheckpoint_name,\n\u001b[0;32m   2489\u001b[0m         \u001b[38;5;28mid\u001b[39m\u001b[38;5;241m=\u001b[39m\u001b[38;5;28mid\u001b[39m,\n\u001b[0;32m   2490\u001b[0m     )\n\u001b[1;32m-> 2491\u001b[0m     result: CheckpointResult \u001b[38;5;241m=\u001b[39m checkpoint\u001b[38;5;241m.\u001b[39mrun_with_runtime_args(\n\u001b[0;32m   2492\u001b[0m         template_name\u001b[38;5;241m=\u001b[39mtemplate_name,\n\u001b[0;32m   2493\u001b[0m         run_name_template\u001b[38;5;241m=\u001b[39mrun_name_template,\n\u001b[0;32m   2494\u001b[0m         expectation_suite_name\u001b[38;5;241m=\u001b[39mexpectation_suite_name,\n\u001b[0;32m   2495\u001b[0m         batch_request\u001b[38;5;241m=\u001b[39mbatch_request,\n\u001b[0;32m   2496\u001b[0m         action_list\u001b[38;5;241m=\u001b[39maction_list,\n\u001b[0;32m   2497\u001b[0m         evaluation_parameters\u001b[38;5;241m=\u001b[39mevaluation_parameters,\n\u001b[0;32m   2498\u001b[0m         runtime_configuration\u001b[38;5;241m=\u001b[39mruntime_configuration,\n\u001b[0;32m   2499\u001b[0m         validations\u001b[38;5;241m=\u001b[39mvalidations,\n\u001b[0;32m   2500\u001b[0m         profilers\u001b[38;5;241m=\u001b[39mprofilers,\n\u001b[0;32m   2501\u001b[0m         run_id\u001b[38;5;241m=\u001b[39mrun_id,\n\u001b[0;32m   2502\u001b[0m         run_name\u001b[38;5;241m=\u001b[39mrun_name,\n\u001b[0;32m   2503\u001b[0m         run_time\u001b[38;5;241m=\u001b[39mrun_time,\n\u001b[0;32m   2504\u001b[0m         result_format\u001b[38;5;241m=\u001b[39mresult_format,\n\u001b[0;32m   2505\u001b[0m         expectation_suite_ge_cloud_id\u001b[38;5;241m=\u001b[39mexpectation_suite_ge_cloud_id,\n\u001b[0;32m   2506\u001b[0m         \u001b[38;5;241m*\u001b[39m\u001b[38;5;241m*\u001b[39mkwargs,\n\u001b[0;32m   2507\u001b[0m     )\n\u001b[0;32m   2508\u001b[0m     \u001b[38;5;28;01mreturn\u001b[39;00m result\n",
      "File \u001b[1;32m~\\AppData\\Local\\anaconda3\\Lib\\site-packages\\great_expectations\\checkpoint\\checkpoint.py:911\u001b[0m, in \u001b[0;36mCheckpoint.run_with_runtime_args\u001b[1;34m(self, template_name, run_name_template, expectation_suite_name, batch_request, validator, action_list, evaluation_parameters, runtime_configuration, validations, profilers, run_id, run_name, run_time, result_format, expectation_suite_ge_cloud_id, **kwargs)\u001b[0m\n\u001b[0;32m    904\u001b[0m checkpoint_run_arguments: \u001b[38;5;28mdict\u001b[39m \u001b[38;5;241m=\u001b[39m \u001b[38;5;28mdict\u001b[39m(\u001b[38;5;241m*\u001b[39m\u001b[38;5;241m*\u001b[39mcheckpoint_config, \u001b[38;5;241m*\u001b[39m\u001b[38;5;241m*\u001b[39mkwargs)\n\u001b[0;32m    905\u001b[0m filter_properties_dict(\n\u001b[0;32m    906\u001b[0m     properties\u001b[38;5;241m=\u001b[39mcheckpoint_run_arguments,\n\u001b[0;32m    907\u001b[0m     clean_falsy\u001b[38;5;241m=\u001b[39m\u001b[38;5;28;01mTrue\u001b[39;00m,\n\u001b[0;32m    908\u001b[0m     inplace\u001b[38;5;241m=\u001b[39m\u001b[38;5;28;01mTrue\u001b[39;00m,\n\u001b[0;32m    909\u001b[0m )\n\u001b[1;32m--> 911\u001b[0m \u001b[38;5;28;01mreturn\u001b[39;00m \u001b[38;5;28mself\u001b[39m\u001b[38;5;241m.\u001b[39mrun(\u001b[38;5;241m*\u001b[39m\u001b[38;5;241m*\u001b[39mcheckpoint_run_arguments)\n",
      "File \u001b[1;32m~\\AppData\\Local\\anaconda3\\Lib\\site-packages\\great_expectations\\checkpoint\\checkpoint.py:1260\u001b[0m, in \u001b[0;36mSimpleCheckpoint.run\u001b[1;34m(self, template_name, run_name_template, expectation_suite_name, batch_request, validator, action_list, evaluation_parameters, runtime_configuration, validations, profilers, run_id, run_name, run_time, result_format, site_names, slack_webhook, notify_on, notify_with, expectation_suite_ge_cloud_id)\u001b[0m\n\u001b[0;32m   1249\u001b[0m \u001b[38;5;28;01mif\u001b[39;00m \u001b[38;5;28many\u001b[39m((site_names, slack_webhook, notify_on, notify_with)):\n\u001b[0;32m   1250\u001b[0m     new_baseline_config \u001b[38;5;241m=\u001b[39m \u001b[38;5;28mself\u001b[39m\u001b[38;5;241m.\u001b[39m_configurator_class(\n\u001b[0;32m   1251\u001b[0m         name\u001b[38;5;241m=\u001b[39m\u001b[38;5;28mself\u001b[39m\u001b[38;5;241m.\u001b[39mname,\n\u001b[0;32m   1252\u001b[0m         data_context\u001b[38;5;241m=\u001b[39m\u001b[38;5;28mself\u001b[39m\u001b[38;5;241m.\u001b[39mdata_context,\n\u001b[1;32m   (...)\u001b[0m\n\u001b[0;32m   1257\u001b[0m         notify_with\u001b[38;5;241m=\u001b[39mnotify_with,\n\u001b[0;32m   1258\u001b[0m     )\u001b[38;5;241m.\u001b[39mbuild()\n\u001b[1;32m-> 1260\u001b[0m \u001b[38;5;28;01mreturn\u001b[39;00m \u001b[38;5;28msuper\u001b[39m()\u001b[38;5;241m.\u001b[39mrun(\n\u001b[0;32m   1261\u001b[0m     template_name\u001b[38;5;241m=\u001b[39mtemplate_name,\n\u001b[0;32m   1262\u001b[0m     run_name_template\u001b[38;5;241m=\u001b[39mrun_name_template,\n\u001b[0;32m   1263\u001b[0m     expectation_suite_name\u001b[38;5;241m=\u001b[39mexpectation_suite_name,\n\u001b[0;32m   1264\u001b[0m     batch_request\u001b[38;5;241m=\u001b[39mbatch_request,\n\u001b[0;32m   1265\u001b[0m     validator\u001b[38;5;241m=\u001b[39mvalidator,\n\u001b[0;32m   1266\u001b[0m     action_list\u001b[38;5;241m=\u001b[39mnew_baseline_config\u001b[38;5;241m.\u001b[39maction_list\n\u001b[0;32m   1267\u001b[0m     \u001b[38;5;28;01mif\u001b[39;00m new_baseline_config\n\u001b[0;32m   1268\u001b[0m     \u001b[38;5;28;01melse\u001b[39;00m action_list,\n\u001b[0;32m   1269\u001b[0m     evaluation_parameters\u001b[38;5;241m=\u001b[39mevaluation_parameters,\n\u001b[0;32m   1270\u001b[0m     runtime_configuration\u001b[38;5;241m=\u001b[39mruntime_configuration,\n\u001b[0;32m   1271\u001b[0m     validations\u001b[38;5;241m=\u001b[39mvalidations,\n\u001b[0;32m   1272\u001b[0m     profilers\u001b[38;5;241m=\u001b[39mprofilers,\n\u001b[0;32m   1273\u001b[0m     run_id\u001b[38;5;241m=\u001b[39mrun_id,\n\u001b[0;32m   1274\u001b[0m     run_name\u001b[38;5;241m=\u001b[39mrun_name,\n\u001b[0;32m   1275\u001b[0m     run_time\u001b[38;5;241m=\u001b[39mrun_time,\n\u001b[0;32m   1276\u001b[0m     result_format\u001b[38;5;241m=\u001b[39mresult_format,\n\u001b[0;32m   1277\u001b[0m     expectation_suite_ge_cloud_id\u001b[38;5;241m=\u001b[39mexpectation_suite_ge_cloud_id,\n\u001b[0;32m   1278\u001b[0m )\n",
      "File \u001b[1;32m~\\AppData\\Local\\anaconda3\\Lib\\site-packages\\great_expectations\\core\\usage_statistics\\usage_statistics.py:260\u001b[0m, in \u001b[0;36musage_statistics_enabled_method.<locals>.usage_statistics_wrapped_method\u001b[1;34m(*args, **kwargs)\u001b[0m\n\u001b[0;32m    257\u001b[0m         args_payload \u001b[38;5;241m=\u001b[39m args_payload_fn(\u001b[38;5;241m*\u001b[39margs, \u001b[38;5;241m*\u001b[39m\u001b[38;5;241m*\u001b[39mkwargs) \u001b[38;5;129;01mor\u001b[39;00m {}\n\u001b[0;32m    258\u001b[0m         nested_update(event_payload, args_payload)\n\u001b[1;32m--> 260\u001b[0m     result \u001b[38;5;241m=\u001b[39m func(\u001b[38;5;241m*\u001b[39margs, \u001b[38;5;241m*\u001b[39m\u001b[38;5;241m*\u001b[39mkwargs)\n\u001b[0;32m    261\u001b[0m     message[\u001b[38;5;124m\"\u001b[39m\u001b[38;5;124msuccess\u001b[39m\u001b[38;5;124m\"\u001b[39m] \u001b[38;5;241m=\u001b[39m \u001b[38;5;28;01mTrue\u001b[39;00m\n\u001b[0;32m    262\u001b[0m \u001b[38;5;28;01mexcept\u001b[39;00m \u001b[38;5;167;01mException\u001b[39;00m:\n",
      "File \u001b[1;32m~\\AppData\\Local\\anaconda3\\Lib\\site-packages\\great_expectations\\checkpoint\\checkpoint.py:304\u001b[0m, in \u001b[0;36mBaseCheckpoint.run\u001b[1;34m(self, template_name, run_name_template, expectation_suite_name, batch_request, validator, action_list, evaluation_parameters, runtime_configuration, validations, profilers, run_id, run_name, run_time, result_format, expectation_suite_ge_cloud_id)\u001b[0m\n\u001b[0;32m    302\u001b[0m \u001b[38;5;28;01mif\u001b[39;00m \u001b[38;5;28mlen\u001b[39m(validations) \u001b[38;5;241m>\u001b[39m \u001b[38;5;241m0\u001b[39m:\n\u001b[0;32m    303\u001b[0m     \u001b[38;5;28;01mfor\u001b[39;00m idx, validation_dict \u001b[38;5;129;01min\u001b[39;00m \u001b[38;5;28menumerate\u001b[39m(validations):\n\u001b[1;32m--> 304\u001b[0m         \u001b[38;5;28mself\u001b[39m\u001b[38;5;241m.\u001b[39m_run_validation(\n\u001b[0;32m    305\u001b[0m             substituted_runtime_config\u001b[38;5;241m=\u001b[39msubstituted_runtime_config,\n\u001b[0;32m    306\u001b[0m             async_validation_operator_results\u001b[38;5;241m=\u001b[39masync_validation_operator_results,\n\u001b[0;32m    307\u001b[0m             async_executor\u001b[38;5;241m=\u001b[39masync_executor,\n\u001b[0;32m    308\u001b[0m             result_format\u001b[38;5;241m=\u001b[39mresult_format,\n\u001b[0;32m    309\u001b[0m             run_id\u001b[38;5;241m=\u001b[39mrun_id,\n\u001b[0;32m    310\u001b[0m             idx\u001b[38;5;241m=\u001b[39midx,\n\u001b[0;32m    311\u001b[0m             validation_dict\u001b[38;5;241m=\u001b[39mvalidation_dict,\n\u001b[0;32m    312\u001b[0m         )\n\u001b[0;32m    313\u001b[0m \u001b[38;5;28;01melse\u001b[39;00m:\n\u001b[0;32m    314\u001b[0m     \u001b[38;5;28mself\u001b[39m\u001b[38;5;241m.\u001b[39m_run_validation(\n\u001b[0;32m    315\u001b[0m         substituted_runtime_config\u001b[38;5;241m=\u001b[39msubstituted_runtime_config,\n\u001b[0;32m    316\u001b[0m         async_validation_operator_results\u001b[38;5;241m=\u001b[39masync_validation_operator_results,\n\u001b[1;32m   (...)\u001b[0m\n\u001b[0;32m    319\u001b[0m         run_id\u001b[38;5;241m=\u001b[39mrun_id,\n\u001b[0;32m    320\u001b[0m     )\n",
      "File \u001b[1;32m~\\AppData\\Local\\anaconda3\\Lib\\site-packages\\great_expectations\\checkpoint\\checkpoint.py:479\u001b[0m, in \u001b[0;36mBaseCheckpoint._run_validation\u001b[1;34m(self, substituted_runtime_config, async_validation_operator_results, async_executor, result_format, run_id, idx, validation_dict)\u001b[0m\n\u001b[0;32m    474\u001b[0m \u001b[38;5;28;01mif\u001b[39;00m include_rendered_content \u001b[38;5;129;01mis\u001b[39;00m \u001b[38;5;28;01mNone\u001b[39;00m:\n\u001b[0;32m    475\u001b[0m     include_rendered_content \u001b[38;5;241m=\u001b[39m (\n\u001b[0;32m    476\u001b[0m         \u001b[38;5;28mself\u001b[39m\u001b[38;5;241m.\u001b[39m_data_context\u001b[38;5;241m.\u001b[39m_determine_if_expectation_validation_result_include_rendered_content()\n\u001b[0;32m    477\u001b[0m     )\n\u001b[1;32m--> 479\u001b[0m validator: Validator \u001b[38;5;241m=\u001b[39m \u001b[38;5;28mself\u001b[39m\u001b[38;5;241m.\u001b[39m_validator \u001b[38;5;129;01mor\u001b[39;00m \u001b[38;5;28mself\u001b[39m\u001b[38;5;241m.\u001b[39mdata_context\u001b[38;5;241m.\u001b[39mget_validator(\n\u001b[0;32m    480\u001b[0m     batch_request\u001b[38;5;241m=\u001b[39mbatch_request,\n\u001b[0;32m    481\u001b[0m     expectation_suite_name\u001b[38;5;241m=\u001b[39mexpectation_suite_name\n\u001b[0;32m    482\u001b[0m     \u001b[38;5;28;01mif\u001b[39;00m \u001b[38;5;129;01mnot\u001b[39;00m \u001b[38;5;28mself\u001b[39m\u001b[38;5;241m.\u001b[39m_using_cloud_context\n\u001b[0;32m    483\u001b[0m     \u001b[38;5;28;01melse\u001b[39;00m \u001b[38;5;28;01mNone\u001b[39;00m,\n\u001b[0;32m    484\u001b[0m     expectation_suite_ge_cloud_id\u001b[38;5;241m=\u001b[39m(\n\u001b[0;32m    485\u001b[0m         expectation_suite_ge_cloud_id \u001b[38;5;28;01mif\u001b[39;00m \u001b[38;5;28mself\u001b[39m\u001b[38;5;241m.\u001b[39m_using_cloud_context \u001b[38;5;28;01melse\u001b[39;00m \u001b[38;5;28;01mNone\u001b[39;00m\n\u001b[0;32m    486\u001b[0m     ),\n\u001b[0;32m    487\u001b[0m     include_rendered_content\u001b[38;5;241m=\u001b[39minclude_rendered_content,\n\u001b[0;32m    488\u001b[0m )\n\u001b[0;32m    490\u001b[0m action_list: Sequence[ActionDict] \u001b[38;5;241m|\u001b[39m \u001b[38;5;28;01mNone\u001b[39;00m \u001b[38;5;241m=\u001b[39m substituted_validation_dict\u001b[38;5;241m.\u001b[39mget(\n\u001b[0;32m    491\u001b[0m     \u001b[38;5;124m\"\u001b[39m\u001b[38;5;124maction_list\u001b[39m\u001b[38;5;124m\"\u001b[39m\n\u001b[0;32m    492\u001b[0m )\n\u001b[0;32m    493\u001b[0m runtime_configuration_validation \u001b[38;5;241m=\u001b[39m substituted_validation_dict\u001b[38;5;241m.\u001b[39mget(\n\u001b[0;32m    494\u001b[0m     \u001b[38;5;124m\"\u001b[39m\u001b[38;5;124mruntime_configuration\u001b[39m\u001b[38;5;124m\"\u001b[39m, {}\n\u001b[0;32m    495\u001b[0m )\n",
      "File \u001b[1;32m~\\AppData\\Local\\anaconda3\\Lib\\site-packages\\great_expectations\\data_context\\data_context\\abstract_data_context.py:2714\u001b[0m, in \u001b[0;36mAbstractDataContext.get_validator\u001b[1;34m(***failed resolving arguments***)\u001b[0m\n\u001b[0;32m   2710\u001b[0m         batch_request_list \u001b[38;5;241m=\u001b[39m [batch_request]  \u001b[38;5;66;03m# type: ignore[list-item]\u001b[39;00m\n\u001b[0;32m   2712\u001b[0m     \u001b[38;5;28;01mfor\u001b[39;00m batch_request \u001b[38;5;129;01min\u001b[39;00m batch_request_list:\n\u001b[0;32m   2713\u001b[0m         batch_list\u001b[38;5;241m.\u001b[39mextend(\n\u001b[1;32m-> 2714\u001b[0m             \u001b[38;5;28mself\u001b[39m\u001b[38;5;241m.\u001b[39mget_batch_list(\n\u001b[0;32m   2715\u001b[0m                 datasource_name\u001b[38;5;241m=\u001b[39mdatasource_name,\n\u001b[0;32m   2716\u001b[0m                 data_connector_name\u001b[38;5;241m=\u001b[39mdata_connector_name,\n\u001b[0;32m   2717\u001b[0m                 data_asset_name\u001b[38;5;241m=\u001b[39mdata_asset_name,\n\u001b[0;32m   2718\u001b[0m                 batch_request\u001b[38;5;241m=\u001b[39mbatch_request,\n\u001b[0;32m   2719\u001b[0m                 batch_data\u001b[38;5;241m=\u001b[39mbatch_data,\n\u001b[0;32m   2720\u001b[0m                 data_connector_query\u001b[38;5;241m=\u001b[39mdata_connector_query,\n\u001b[0;32m   2721\u001b[0m                 batch_identifiers\u001b[38;5;241m=\u001b[39mbatch_identifiers,\n\u001b[0;32m   2722\u001b[0m                 limit\u001b[38;5;241m=\u001b[39mlimit,\n\u001b[0;32m   2723\u001b[0m                 index\u001b[38;5;241m=\u001b[39mindex,\n\u001b[0;32m   2724\u001b[0m                 custom_filter_function\u001b[38;5;241m=\u001b[39mcustom_filter_function,\n\u001b[0;32m   2725\u001b[0m                 sampling_method\u001b[38;5;241m=\u001b[39msampling_method,\n\u001b[0;32m   2726\u001b[0m                 sampling_kwargs\u001b[38;5;241m=\u001b[39msampling_kwargs,\n\u001b[0;32m   2727\u001b[0m                 splitter_method\u001b[38;5;241m=\u001b[39msplitter_method,\n\u001b[0;32m   2728\u001b[0m                 splitter_kwargs\u001b[38;5;241m=\u001b[39msplitter_kwargs,\n\u001b[0;32m   2729\u001b[0m                 runtime_parameters\u001b[38;5;241m=\u001b[39mruntime_parameters,\n\u001b[0;32m   2730\u001b[0m                 query\u001b[38;5;241m=\u001b[39mquery,\n\u001b[0;32m   2731\u001b[0m                 path\u001b[38;5;241m=\u001b[39mpath,\n\u001b[0;32m   2732\u001b[0m                 batch_filter_parameters\u001b[38;5;241m=\u001b[39mbatch_filter_parameters,\n\u001b[0;32m   2733\u001b[0m                 batch_spec_passthrough\u001b[38;5;241m=\u001b[39mbatch_spec_passthrough,\n\u001b[0;32m   2734\u001b[0m                 \u001b[38;5;241m*\u001b[39m\u001b[38;5;241m*\u001b[39mkwargs,\n\u001b[0;32m   2735\u001b[0m             )\n\u001b[0;32m   2736\u001b[0m         )\n\u001b[0;32m   2738\u001b[0m \u001b[38;5;28;01mreturn\u001b[39;00m \u001b[38;5;28mself\u001b[39m\u001b[38;5;241m.\u001b[39mget_validator_using_batch_list(\n\u001b[0;32m   2739\u001b[0m     expectation_suite\u001b[38;5;241m=\u001b[39mexpectation_suite,  \u001b[38;5;66;03m# type: ignore[arg-type]\u001b[39;00m\n\u001b[0;32m   2740\u001b[0m     batch_list\u001b[38;5;241m=\u001b[39mbatch_list,\n\u001b[0;32m   2741\u001b[0m     include_rendered_content\u001b[38;5;241m=\u001b[39minclude_rendered_content,\n\u001b[0;32m   2742\u001b[0m )\n",
      "File \u001b[1;32m~\\AppData\\Local\\anaconda3\\Lib\\site-packages\\great_expectations\\core\\usage_statistics\\usage_statistics.py:260\u001b[0m, in \u001b[0;36musage_statistics_enabled_method.<locals>.usage_statistics_wrapped_method\u001b[1;34m(*args, **kwargs)\u001b[0m\n\u001b[0;32m    257\u001b[0m         args_payload \u001b[38;5;241m=\u001b[39m args_payload_fn(\u001b[38;5;241m*\u001b[39margs, \u001b[38;5;241m*\u001b[39m\u001b[38;5;241m*\u001b[39mkwargs) \u001b[38;5;129;01mor\u001b[39;00m {}\n\u001b[0;32m    258\u001b[0m         nested_update(event_payload, args_payload)\n\u001b[1;32m--> 260\u001b[0m     result \u001b[38;5;241m=\u001b[39m func(\u001b[38;5;241m*\u001b[39margs, \u001b[38;5;241m*\u001b[39m\u001b[38;5;241m*\u001b[39mkwargs)\n\u001b[0;32m    261\u001b[0m     message[\u001b[38;5;124m\"\u001b[39m\u001b[38;5;124msuccess\u001b[39m\u001b[38;5;124m\"\u001b[39m] \u001b[38;5;241m=\u001b[39m \u001b[38;5;28;01mTrue\u001b[39;00m\n\u001b[0;32m    262\u001b[0m \u001b[38;5;28;01mexcept\u001b[39;00m \u001b[38;5;167;01mException\u001b[39;00m:\n",
      "File \u001b[1;32m~\\AppData\\Local\\anaconda3\\Lib\\site-packages\\great_expectations\\data_context\\data_context\\abstract_data_context.py:2883\u001b[0m, in \u001b[0;36mAbstractDataContext.get_batch_list\u001b[1;34m(self, datasource_name, data_connector_name, data_asset_name, batch_request, batch_data, data_connector_query, batch_identifiers, limit, index, custom_filter_function, sampling_method, sampling_kwargs, splitter_method, splitter_kwargs, runtime_parameters, query, path, batch_filter_parameters, batch_spec_passthrough, batch_request_options, **kwargs)\u001b[0m\n\u001b[0;32m   2805\u001b[0m \u001b[38;5;129m@public_api\u001b[39m\n\u001b[0;32m   2806\u001b[0m \u001b[38;5;129m@usage_statistics_enabled_method\u001b[39m(\n\u001b[0;32m   2807\u001b[0m     event_name\u001b[38;5;241m=\u001b[39mUsageStatsEvents\u001b[38;5;241m.\u001b[39mDATA_CONTEXT_GET_BATCH_LIST,\n\u001b[1;32m   (...)\u001b[0m\n\u001b[0;32m   2832\u001b[0m     \u001b[38;5;241m*\u001b[39m\u001b[38;5;241m*\u001b[39mkwargs: Optional[\u001b[38;5;28mdict\u001b[39m],\n\u001b[0;32m   2833\u001b[0m ) \u001b[38;5;241m-\u001b[39m\u001b[38;5;241m>\u001b[39m List[Batch]:\n\u001b[0;32m   2834\u001b[0m \u001b[38;5;250m    \u001b[39m\u001b[38;5;124;03m\"\"\"Get the list of zero or more batches, based on a variety of flexible input types.\u001b[39;00m\n\u001b[0;32m   2835\u001b[0m \n\u001b[0;32m   2836\u001b[0m \u001b[38;5;124;03m    `get_batch_list` is the main user-facing API for getting batches.\u001b[39;00m\n\u001b[1;32m   (...)\u001b[0m\n\u001b[0;32m   2881\u001b[0m \n\u001b[0;32m   2882\u001b[0m \u001b[38;5;124;03m    \"\"\"\u001b[39;00m\n\u001b[1;32m-> 2883\u001b[0m     \u001b[38;5;28;01mreturn\u001b[39;00m \u001b[38;5;28mself\u001b[39m\u001b[38;5;241m.\u001b[39m_get_batch_list(\n\u001b[0;32m   2884\u001b[0m         datasource_name\u001b[38;5;241m=\u001b[39mdatasource_name,\n\u001b[0;32m   2885\u001b[0m         data_connector_name\u001b[38;5;241m=\u001b[39mdata_connector_name,\n\u001b[0;32m   2886\u001b[0m         data_asset_name\u001b[38;5;241m=\u001b[39mdata_asset_name,\n\u001b[0;32m   2887\u001b[0m         batch_request\u001b[38;5;241m=\u001b[39mbatch_request,\n\u001b[0;32m   2888\u001b[0m         batch_data\u001b[38;5;241m=\u001b[39mbatch_data,\n\u001b[0;32m   2889\u001b[0m         data_connector_query\u001b[38;5;241m=\u001b[39mdata_connector_query,\n\u001b[0;32m   2890\u001b[0m         batch_identifiers\u001b[38;5;241m=\u001b[39mbatch_identifiers,\n\u001b[0;32m   2891\u001b[0m         limit\u001b[38;5;241m=\u001b[39mlimit,\n\u001b[0;32m   2892\u001b[0m         index\u001b[38;5;241m=\u001b[39mindex,\n\u001b[0;32m   2893\u001b[0m         custom_filter_function\u001b[38;5;241m=\u001b[39mcustom_filter_function,\n\u001b[0;32m   2894\u001b[0m         sampling_method\u001b[38;5;241m=\u001b[39msampling_method,\n\u001b[0;32m   2895\u001b[0m         sampling_kwargs\u001b[38;5;241m=\u001b[39msampling_kwargs,\n\u001b[0;32m   2896\u001b[0m         splitter_method\u001b[38;5;241m=\u001b[39msplitter_method,\n\u001b[0;32m   2897\u001b[0m         splitter_kwargs\u001b[38;5;241m=\u001b[39msplitter_kwargs,\n\u001b[0;32m   2898\u001b[0m         runtime_parameters\u001b[38;5;241m=\u001b[39mruntime_parameters,\n\u001b[0;32m   2899\u001b[0m         query\u001b[38;5;241m=\u001b[39mquery,\n\u001b[0;32m   2900\u001b[0m         path\u001b[38;5;241m=\u001b[39mpath,\n\u001b[0;32m   2901\u001b[0m         batch_filter_parameters\u001b[38;5;241m=\u001b[39mbatch_filter_parameters,\n\u001b[0;32m   2902\u001b[0m         batch_spec_passthrough\u001b[38;5;241m=\u001b[39mbatch_spec_passthrough,\n\u001b[0;32m   2903\u001b[0m         batch_request_options\u001b[38;5;241m=\u001b[39mbatch_request_options,\n\u001b[0;32m   2904\u001b[0m         \u001b[38;5;241m*\u001b[39m\u001b[38;5;241m*\u001b[39mkwargs,\n\u001b[0;32m   2905\u001b[0m     )\n",
      "File \u001b[1;32m~\\AppData\\Local\\anaconda3\\Lib\\site-packages\\great_expectations\\data_context\\data_context\\abstract_data_context.py:2956\u001b[0m, in \u001b[0;36mAbstractDataContext._get_batch_list\u001b[1;34m(self, datasource_name, data_connector_name, data_asset_name, batch_request, batch_data, data_connector_query, batch_identifiers, limit, index, custom_filter_function, sampling_method, sampling_kwargs, splitter_method, splitter_kwargs, runtime_parameters, query, path, batch_filter_parameters, batch_spec_passthrough, batch_request_options, **kwargs)\u001b[0m\n\u001b[0;32m   2954\u001b[0m datasource_name \u001b[38;5;241m=\u001b[39m result\u001b[38;5;241m.\u001b[39mdatasource_name\n\u001b[0;32m   2955\u001b[0m \u001b[38;5;28;01mif\u001b[39;00m datasource_name \u001b[38;5;129;01mnot\u001b[39;00m \u001b[38;5;129;01min\u001b[39;00m \u001b[38;5;28mself\u001b[39m\u001b[38;5;241m.\u001b[39mdatasources:\n\u001b[1;32m-> 2956\u001b[0m     \u001b[38;5;28;01mraise\u001b[39;00m gx_exceptions\u001b[38;5;241m.\u001b[39mDatasourceError(\n\u001b[0;32m   2957\u001b[0m         datasource_name,\n\u001b[0;32m   2958\u001b[0m         \u001b[38;5;124m\"\u001b[39m\u001b[38;5;124mThe given datasource could not be retrieved from the DataContext; \u001b[39m\u001b[38;5;124m\"\u001b[39m\n\u001b[0;32m   2959\u001b[0m         \u001b[38;5;124m\"\u001b[39m\u001b[38;5;124mplease confirm that your configuration is accurate.\u001b[39m\u001b[38;5;124m\"\u001b[39m,\n\u001b[0;32m   2960\u001b[0m     )\n\u001b[0;32m   2962\u001b[0m datasource \u001b[38;5;241m=\u001b[39m \u001b[38;5;28mself\u001b[39m\u001b[38;5;241m.\u001b[39mdatasources[\n\u001b[0;32m   2963\u001b[0m     datasource_name\n\u001b[0;32m   2964\u001b[0m ]  \u001b[38;5;66;03m# this can return one of three datasource types, including Fluent datasource types\u001b[39;00m\n\u001b[0;32m   2965\u001b[0m \u001b[38;5;28;01mreturn\u001b[39;00m datasource\u001b[38;5;241m.\u001b[39mget_batch_list_from_batch_request(batch_request\u001b[38;5;241m=\u001b[39mresult)\n",
      "\u001b[1;31mDatasourceError\u001b[0m: Cannot initialize datasource r\"C:\\Users\\sushma.n\\OneDrive - Incedo Technology Solutions Ltd\\Desktop\\Assignments\\GreatExpectations\\data\", error: The given datasource could not be retrieved from the DataContext; please confirm that your configuration is accurate."
     ]
    }
   ],
   "source": [
    "context.run_checkpoint(checkpoint_name=my_checkpoint_name)\n",
    "context.open_data_docs()"
   ]
  },
  {
   "cell_type": "code",
   "execution_count": null,
   "id": "0ad1793f",
   "metadata": {},
   "outputs": [],
   "source": []
  },
  {
   "cell_type": "code",
   "execution_count": null,
   "id": "7d78cee7",
   "metadata": {},
   "outputs": [],
   "source": []
  }
 ],
 "metadata": {
  "kernelspec": {
   "display_name": "Python 3 (ipykernel)",
   "language": "python",
   "name": "python3"
  },
  "language_info": {
   "codemirror_mode": {
    "name": "ipython",
    "version": 3
   },
   "file_extension": ".py",
   "mimetype": "text/x-python",
   "name": "python",
   "nbconvert_exporter": "python",
   "pygments_lexer": "ipython3",
   "version": "3.11.3"
  }
 },
 "nbformat": 4,
 "nbformat_minor": 5
}
