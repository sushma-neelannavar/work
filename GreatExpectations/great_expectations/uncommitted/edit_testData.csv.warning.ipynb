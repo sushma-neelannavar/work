{
 "cells": [
  {
   "cell_type": "markdown",
   "id": "c6cdf08f",
   "metadata": {},
   "source": [
    "# Edit Your Expectation Suite\n",
    "Use this notebook to recreate and modify your expectation suite:\n",
    "\n",
    "**Expectation Suite Name**: `testData.csv.warning`\n"
   ]
  },
  {
   "cell_type": "code",
   "execution_count": null,
   "id": "80227bbb",
   "metadata": {},
   "outputs": [],
   "source": [
    "import datetime\n",
    "\n",
    "import pandas as pd\n",
    "\n",
    "import great_expectations as gx\n",
    "import great_expectations.jupyter_ux\n",
    "from great_expectations.core.expectation_configuration import ExpectationConfiguration\n",
    "from great_expectations.data_context.types.resource_identifiers import (\n",
    "    ExpectationSuiteIdentifier,\n",
    ")\n",
    "from great_expectations.exceptions import DataContextError\n",
    "\n",
    "context = gx.get_context()\n",
    "\n",
    "\n",
    "# Feel free to change the name of your suite here. Renaming this will not remove the other one.\n",
    "expectation_suite_name = \"testData.csv.warning\"\n",
    "try:\n",
    "    suite = context.get_expectation_suite(expectation_suite_name=expectation_suite_name)\n",
    "    print(\n",
    "        f'Loaded ExpectationSuite \"{suite.expectation_suite_name}\" containing {len(suite.expectations)} expectations.'\n",
    "    )\n",
    "except DataContextError:\n",
    "    suite = context.add_expectation_suite(expectation_suite_name=expectation_suite_name)\n",
    "    print(f'Created ExpectationSuite \"{suite.expectation_suite_name}\".')"
   ]
  },
  {
   "cell_type": "markdown",
   "id": "48e74993",
   "metadata": {},
   "source": [
    "## Create & Edit Expectations\n",
    "\n",
    "\n",
    "You are adding Expectation configurations to the suite. Since you selected manual mode, there is no sample batch of data and no validation happens during this process. See our documentation for more info and examples: **[How to create a new Expectation Suite without a sample batch](https://docs.greatexpectations.io/docs/guides/expectations/how_to_create_and_edit_expectations_based_on_domain_knowledge_without_inspecting_data_directly)**.\n",
    "\n",
    "Note that if you do use interactive mode you may specify a sample batch of data to use when creating your Expectation Suite. You can then use a `validator` to get immediate feedback on your Expectations against your specified sample batch.\n",
    "\n",
    "\n",
    "You can see all the available expectations in the **[expectation gallery](https://greatexpectations.io/expectations)**."
   ]
  },
  {
   "cell_type": "markdown",
   "id": "0db87a8c",
   "metadata": {},
   "source": [
    "### Table Expectation(s)"
   ]
  },
  {
   "cell_type": "code",
   "execution_count": null,
   "id": "4c7f9460",
   "metadata": {},
   "outputs": [],
   "source": [
    "expectation_configuration = ExpectationConfiguration(\n",
    "    **{\n",
    "        \"expectation_type\": \"expect_table_row_count_to_be_between\",\n",
    "        \"kwargs\": {\"max_value\": 100, \"min_value\": 1, \"result_format\":\"COMPLETE\"},\n",
    "        \"meta\": {\n",
    "            \"profiler_details\": {\n",
    "                \"metric_configuration\": {\n",
    "                    \"domain_kwargs\": {},\n",
    "                    \"metric_name\": \"table.row_count\",\n",
    "                    \"metric_value_kwargs\": None,\n",
    "                },\n",
    "                \"num_batches\": 1,\n",
    "            }\n",
    "        },\n",
    "    }\n",
    ")\n",
    "suite.add_expectation(expectation_configuration=expectation_configuration)"
   ]
  },
  {
   "cell_type": "code",
   "execution_count": null,
   "id": "3843c152",
   "metadata": {},
   "outputs": [],
   "source": [
    "expectation_configuration = ExpectationConfiguration(\n",
    "    **{\n",
    "        \"expectation_type\": \"expect_table_columns_to_match_set\",\n",
    "        \"kwargs\": {\n",
    "            \"column_set\": [\n",
    "                \"passenger_count\",\n",
    "                \"improvement_surcharge\",\n",
    "                \"mta_tax\",\n",
    "                \"dropoff_datetime\",\n",
    "                \"extra\",\n",
    "                \"total_amount\",\n",
    "                \"fare_amount\",\n",
    "                \"rate_code_id\",\n",
    "                \"payment_type\",\n",
    "                \"pickup_datetime\",\n",
    "                \"tip_amount\",\n",
    "                \"congestion_surcharge\",\n",
    "                \"tolls_amount\",\n",
    "                \"pickup_location_id\",\n",
    "                \"store_and_fwd_flag\",\n",
    "                \"vendor_id\",\n",
    "                \"dropoff_location_id\",\n",
    "                \"trip_distance\",\n",
    "            ],\n",
    "            \"result_format\":\"COMPLETE\"\n",
    "        },\n",
    "        \"meta\": {\"profiler_details\": {\"success_ratio\": 1.0}},\n",
    "    }\n",
    ")\n",
    "suite.add_expectation(expectation_configuration=expectation_configuration)"
   ]
  },
  {
   "cell_type": "code",
   "execution_count": null,
   "id": "7c9d495e",
   "metadata": {},
   "outputs": [],
   "source": [
    "expectation_configuration = ExpectationConfiguration(\n",
    "    expectation_type=\"expect_column_values_to_not_be_null\",\n",
    "    kwargs={\n",
    "        \"column\": \"vendor_id\",\n",
    "        \"mostly\": 1.0,\n",
    "        \"result_format\":\"COMPLETE\"\n",
    "    },\n",
    "    meta={\n",
    "        \"notes\": {\n",
    "            \"format\": \"markdown\",\n",
    "            \"content\": \"Vendor ID can not be null. **Markdown** `Supported`\",\n",
    "        }\n",
    "    },\n",
    "    \n",
    ")\n",
    "suite.add_expectation(expectation_configuration=expectation_configuration)"
   ]
  },
  {
   "cell_type": "code",
   "execution_count": null,
   "id": "0b3209db",
   "metadata": {},
   "outputs": [],
   "source": [
    "expectation_configuration = ExpectationConfiguration(\n",
    "    expectation_type=\"expect_column_values_to_not_be_null\",\n",
    "    kwargs={\n",
    "        \"column\": \"total_amount\",\n",
    "        \"mostly\": 1.0,\n",
    "        \"result_format\":\"COMPLETE\"\n",
    "    },\n",
    "    meta={\n",
    "        \"notes\": {\n",
    "            \"format\": \"markdown\",\n",
    "            \"content\": \"Total amount can not be null. **Markdown** `Supported`\",\n",
    "        }\n",
    "    },\n",
    "    \n",
    ")\n",
    "suite.add_expectation(expectation_configuration=expectation_configuration)"
   ]
  },
  {
   "cell_type": "code",
   "execution_count": 58,
   "id": "e63f6b76",
   "metadata": {},
   "outputs": [
    {
     "data": {
      "text/plain": [
       "{\"expectation_type\": \"expect_column_values_to_be_between\", \"kwargs\": {\"max_value\": 100, \"min_value\": 1, \"column\": \"total_amount\", \"result_format\": \"COMPLETE\"}, \"meta\": {}}"
      ]
     },
     "execution_count": 58,
     "metadata": {},
     "output_type": "execute_result"
    }
   ],
   "source": [
    "expectation_configuration = ExpectationConfiguration(\n",
    "    **{\n",
    "        \"expectation_type\": \"expect_column_values_to_be_between\",\n",
    "        \"kwargs\": {\"max_value\": 100, \"min_value\": 1,\n",
    "                  \"column\": \"total_amount\",\n",
    "                  \"result_format\":\"COMPLETE\"}\n",
    "    }\n",
    ")\n",
    "suite.add_expectation(expectation_configuration=expectation_configuration)"
   ]
  },
  {
   "cell_type": "markdown",
   "id": "e0d74f58",
   "metadata": {},
   "source": [
    "### Column Expectation(s)"
   ]
  },
  {
   "cell_type": "markdown",
   "id": "24330e8b",
   "metadata": {},
   "source": [
    "No column level expectations are in this suite. Feel free to add some here.\n"
   ]
  },
  {
   "cell_type": "markdown",
   "id": "097a1353",
   "metadata": {},
   "source": [
    "## Review & Save Your Expectations\n",
    "\n",
    "Let's save the expectation suite as a JSON file in the `great_expectations/expectations` directory of your project.\n",
    "\n",
    "Let's now rebuild your Data Docs, which helps you communicate about your data with both machines and humans."
   ]
  },
  {
   "cell_type": "code",
   "execution_count": 59,
   "id": "1d321d47",
   "metadata": {},
   "outputs": [
    {
     "name": "stdout",
     "output_type": "stream",
     "text": [
      "{\n",
      "  \"expectation_suite_name\": \"testData.csv.warning\",\n",
      "  \"ge_cloud_id\": null,\n",
      "  \"expectations\": [\n",
      "    {\n",
      "      \"expectation_type\": \"expect_table_row_count_to_be_between\",\n",
      "      \"kwargs\": {\n",
      "        \"max_value\": 100,\n",
      "        \"min_value\": 1\n",
      "      },\n",
      "      \"meta\": {\n",
      "        \"profiler_details\": {\n",
      "          \"metric_configuration\": {\n",
      "            \"domain_kwargs\": {},\n",
      "            \"metric_name\": \"table.row_count\",\n",
      "            \"metric_value_kwargs\": null\n",
      "          },\n",
      "          \"num_batches\": 1\n",
      "        }\n",
      "      }\n",
      "    },\n",
      "    {\n",
      "      \"expectation_type\": \"expect_table_columns_to_match_set\",\n",
      "      \"kwargs\": {\n",
      "        \"column_set\": [\n",
      "          \"passenger_count\",\n",
      "          \"improvement_surcharge\",\n",
      "          \"mta_tax\",\n",
      "          \"dropoff_datetime\",\n",
      "          \"extra\",\n",
      "          \"total_amount\",\n",
      "          \"fare_amount\",\n",
      "          \"rate_code_id\",\n",
      "          \"payment_type\",\n",
      "          \"pickup_datetime\",\n",
      "          \"tip_amount\",\n",
      "          \"congestion_surcharge\",\n",
      "          \"tolls_amount\",\n",
      "          \"pickup_location_id\",\n",
      "          \"store_and_fwd_flag\",\n",
      "          \"vendor_id\",\n",
      "          \"dropoff_location_id\",\n",
      "          \"trip_distance\"\n",
      "        ]\n",
      "      },\n",
      "      \"meta\": {\n",
      "        \"profiler_details\": {\n",
      "          \"success_ratio\": 1.0\n",
      "        }\n",
      "      }\n",
      "    },\n",
      "    {\n",
      "      \"expectation_type\": \"expect_column_values_to_not_be_null\",\n",
      "      \"kwargs\": {\n",
      "        \"column\": \"vendor_id\",\n",
      "        \"mostly\": 1.0,\n",
      "        \"result_format\": \"SUMMARY\"\n",
      "      },\n",
      "      \"meta\": {\n",
      "        \"notes\": {\n",
      "          \"content\": \"Vendor ID can not be null. **Markdown** `Supported`\",\n",
      "          \"format\": \"markdown\"\n",
      "        }\n",
      "      }\n",
      "    },\n",
      "    {\n",
      "      \"expectation_type\": \"expect_column_values_to_not_be_null\",\n",
      "      \"kwargs\": {\n",
      "        \"column\": \"total_amount\",\n",
      "        \"mostly\": 1.0,\n",
      "        \"result_format\": \"SUMMARY\"\n",
      "      },\n",
      "      \"meta\": {\n",
      "        \"notes\": {\n",
      "          \"content\": \"Total amount can not be null. **Markdown** `Supported`\",\n",
      "          \"format\": \"markdown\"\n",
      "        }\n",
      "      }\n",
      "    },\n",
      "    {\n",
      "      \"expectation_type\": \"expect_column_values_to_be_between\",\n",
      "      \"kwargs\": {\n",
      "        \"column\": \"total_amount\",\n",
      "        \"max_value\": 100,\n",
      "        \"min_value\": 1,\n",
      "        \"result_format\": \"SUMMARY\"\n",
      "      },\n",
      "      \"meta\": {}\n",
      "    }\n",
      "  ],\n",
      "  \"data_asset_type\": null,\n",
      "  \"meta\": {\n",
      "    \"citations\": [\n",
      "      {\n",
      "        \"citation_date\": \"2023-08-10T05:23:51.466571Z\",\n",
      "        \"comment\": \"Created by effective Rule-Based Profiler of OnboardingDataAssistant with the configuration included.\\n\"\n",
      "      }\n",
      "    ],\n",
      "    \"great_expectations_version\": \"0.17.8\"\n",
      "  }\n",
      "}\n"
     ]
    }
   ],
   "source": [
    "print(context.get_expectation_suite(expectation_suite_name=expectation_suite_name))\n",
    "context.add_or_update_expectation_suite(expectation_suite=suite)\n",
    "\n",
    "suite_identifier = ExpectationSuiteIdentifier(expectation_suite_name=expectation_suite_name)\n",
    "context.build_data_docs(resource_identifiers=[suite_identifier])\n",
    "context.open_data_docs(resource_identifier=suite_identifier)"
   ]
  },
  {
   "cell_type": "code",
   "execution_count": null,
   "id": "45d1cbf5",
   "metadata": {},
   "outputs": [],
   "source": []
  }
 ],
 "metadata": {
  "kernelspec": {
   "display_name": "Python 3 (ipykernel)",
   "language": "python",
   "name": "python3"
  },
  "language_info": {
   "codemirror_mode": {
    "name": "ipython",
    "version": 3
   },
   "file_extension": ".py",
   "mimetype": "text/x-python",
   "name": "python",
   "nbconvert_exporter": "python",
   "pygments_lexer": "ipython3",
   "version": "3.11.3"
  }
 },
 "nbformat": 4,
 "nbformat_minor": 5
}
