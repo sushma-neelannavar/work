{
 "cells": [
  {
   "cell_type": "code",
   "execution_count": 3,
   "id": "5a64f8ff",
   "metadata": {},
   "outputs": [
    {
     "name": "stdout",
     "output_type": "stream",
     "text": [
      "Attempting to instantiate class from config...\n",
      "\tInstantiating as a Datasource, since class_name is Datasource\n",
      "\tSuccessfully instantiated Datasource\n",
      "\n",
      "\n",
      "ExecutionEngine class name: PandasExecutionEngine\n",
      "Data Connectors:\n",
      "\tdefault_runtime_data_connector_name:RuntimeDataConnector\n",
      "\n",
      "\tAvailable data_asset_names (0 of 0):\n",
      "\t\tNote : RuntimeDataConnector will not have data_asset_names until they are passed in through RuntimeBatchRequest\n",
      "\n",
      "\tUnmatched data_references (0 of 0): []\n",
      "\n"
     ]
    },
    {
     "data": {
      "application/vnd.jupyter.widget-view+json": {
       "model_id": "389997eb9c99462480072b99a248d6a1",
       "version_major": 2,
       "version_minor": 0
      },
      "text/plain": [
       "Calculating Metrics:   0%|          | 0/1 [00:00<?, ?it/s]"
      ]
     },
     "metadata": {},
     "output_type": "display_data"
    },
    {
     "name": "stdout",
     "output_type": "stream",
     "text": [
      "   a  b    c\n",
      "0  1  2  3.0\n",
      "1  4  6  NaN\n",
      "2  7  8  9.0\n"
     ]
    }
   ],
   "source": [
    "import pandas as pd\n",
    "\n",
    "import great_expectations as gx\n",
    "from great_expectations.core.batch import RuntimeBatchRequest\n",
    "from great_expectations.core.yaml_handler import YAMLHandler\n",
    "\n",
    "yaml = YAMLHandler()\n",
    "context = gx.get_context()\n",
    "\n",
    "# <snippet name=\"tests/integration/docusaurus/connecting_to_your_data/in_memory/pandas_python_example.py datasource_config\">\n",
    "datasource_config = {\n",
    "    \"name\": \"example_datasource\",\n",
    "    \"class_name\": \"Datasource\",\n",
    "    \"module_name\": \"great_expectations.datasource\",\n",
    "    \"execution_engine\": {\n",
    "        \"module_name\": \"great_expectations.execution_engine\",\n",
    "        \"class_name\": \"PandasExecutionEngine\",\n",
    "    },\n",
    "    \"data_connectors\": {\n",
    "        \"default_runtime_data_connector_name\": {\n",
    "            \"class_name\": \"RuntimeDataConnector\",\n",
    "            \"module_name\": \"great_expectations.datasource.data_connector\",\n",
    "            \"batch_identifiers\": [\"default_identifier_name\"],\n",
    "        },\n",
    "    },\n",
    "}\n",
    "# </snippet>\n",
    "\n",
    "# <snippet name=\"tests/integration/docusaurus/connecting_to_your_data/in_memory/pandas_python_example.py test_yaml_config\">\n",
    "context.test_yaml_config(yaml.dump(datasource_config))\n",
    "# </snippet>\n",
    "\n",
    "# <snippet name=\"tests/integration/docusaurus/connecting_to_your_data/in_memory/pandas_python_example.py add_datasource\">\n",
    "context.add_datasource(**datasource_config)\n",
    "# </snippet>\n",
    "\n",
    "# creating our example Pandas dataframe\n",
    "df = pd.DataFrame([[1, 2, 3], [4, 6], [7, 8, 9]], columns=[\"a\", \"b\", \"c\"])\n",
    "\n",
    "# Here is a RuntimeBatchRequest that takes in our df as batch_data\n",
    "batch_request = RuntimeBatchRequest(\n",
    "    datasource_name=\"example_datasource\",\n",
    "    data_connector_name=\"default_runtime_data_connector_name\",\n",
    "    data_asset_name=\"<YOUR_MEANINGFUL_NAME>\",  # This can be anything that identifies this data_asset for you\n",
    "    runtime_parameters={\"batch_data\": df},  # df is your dataframe\n",
    "    batch_identifiers={\"default_identifier_name\": \"default_identifier\"},\n",
    ")\n",
    "\n",
    "context.add_or_update_expectation_suite(expectation_suite_name=\"test_suite\")\n",
    "validator = context.get_validator(\n",
    "    batch_request=batch_request, expectation_suite_name=\"test_suite\"\n",
    ")\n",
    "print(validator.head())\n",
    "\n",
    "# NOTE: The following code is only for testing and can be ignored by users.\n",
    "assert isinstance(validator, gx.validator.validator.Validator)"
   ]
  },
  {
   "cell_type": "code",
   "execution_count": null,
   "id": "f1db41e7",
   "metadata": {},
   "outputs": [],
   "source": []
  }
 ],
 "metadata": {
  "kernelspec": {
   "display_name": "Python 3 (ipykernel)",
   "language": "python",
   "name": "python3"
  },
  "language_info": {
   "codemirror_mode": {
    "name": "ipython",
    "version": 3
   },
   "file_extension": ".py",
   "mimetype": "text/x-python",
   "name": "python",
   "nbconvert_exporter": "python",
   "pygments_lexer": "ipython3",
   "version": "3.11.3"
  }
 },
 "nbformat": 4,
 "nbformat_minor": 5
}
