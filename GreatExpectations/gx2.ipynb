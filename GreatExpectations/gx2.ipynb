{
 "cells": [
  {
   "cell_type": "code",
   "execution_count": 1,
   "id": "6716d0d7",
   "metadata": {},
   "outputs": [],
   "source": [
    "import pandas as pd\n",
    "from ruamel import yaml\n",
    "\n",
    "import great_expectations as gx\n",
    "from great_expectations.core.batch import RuntimeBatchRequest"
   ]
  },
  {
   "cell_type": "code",
   "execution_count": 2,
   "id": "a54f1652",
   "metadata": {},
   "outputs": [],
   "source": [
    "context = gx.get_context()"
   ]
  },
  {
   "cell_type": "code",
   "execution_count": 3,
   "id": "e21f6429",
   "metadata": {},
   "outputs": [],
   "source": [
    "datasource_config = {\n",
    "    \"name\": \"example_datasource\",\n",
    "    \"class_name\": \"Datasource\",\n",
    "    \"module_name\": \"great_expectations.datasource\",\n",
    "    \"execution_engine\": {\n",
    "        \"module_name\": \"great_expectations.execution_engine\",\n",
    "        \"class_name\": \"PandasExecutionEngine\",\n",
    "    },\n",
    "    \"data_connectors\": {\n",
    "        \"default_runtime_data_connector_name\": {\n",
    "            \"class_name\": \"RuntimeDataConnector\",\n",
    "            \"module_name\": \"great_expectations.datasource.data_connector\",\n",
    "            \"batch_identifiers\": [\"default_identifier_name\"],\n",
    "        },\n",
    "    },\n",
    "}"
   ]
  },
  {
   "cell_type": "code",
   "execution_count": 4,
   "id": "e6096e7c",
   "metadata": {},
   "outputs": [
    {
     "name": "stdout",
     "output_type": "stream",
     "text": [
      "Attempting to instantiate class from config...\n",
      "\tInstantiating as a Datasource, since class_name is Datasource\n",
      "\tSuccessfully instantiated Datasource\n",
      "\n",
      "\n",
      "ExecutionEngine class name: PandasExecutionEngine\n",
      "Data Connectors:\n",
      "\tdefault_runtime_data_connector_name:RuntimeDataConnector\n",
      "\n",
      "\tAvailable data_asset_names (0 of 0):\n",
      "\t\tNote : RuntimeDataConnector will not have data_asset_names until they are passed in through RuntimeBatchRequest\n",
      "\n",
      "\tUnmatched data_references (0 of 0): []\n",
      "\n"
     ]
    },
    {
     "data": {
      "text/plain": [
       "<great_expectations.datasource.new_datasource.Datasource at 0x2bdddb03cd0>"
      ]
     },
     "execution_count": 4,
     "metadata": {},
     "output_type": "execute_result"
    }
   ],
   "source": [
    "context.test_yaml_config(yaml.dump(datasource_config))"
   ]
  },
  {
   "cell_type": "code",
   "execution_count": 5,
   "id": "c2d327f9",
   "metadata": {},
   "outputs": [
    {
     "data": {
      "text/plain": [
       "<great_expectations.datasource.new_datasource.Datasource at 0x2bdddb8f810>"
      ]
     },
     "execution_count": 5,
     "metadata": {},
     "output_type": "execute_result"
    }
   ],
   "source": [
    "context.add_datasource(**datasource_config)"
   ]
  },
  {
   "cell_type": "code",
   "execution_count": 7,
   "id": "368ffd4b",
   "metadata": {},
   "outputs": [],
   "source": [
    "df = pd.DataFrame([[1, 2, 3], [4, 5, 6], [7, 8, 9]], columns=[\"a\", \"b\", \"c\"])"
   ]
  },
  {
   "cell_type": "code",
   "execution_count": 8,
   "id": "3db7bb6d",
   "metadata": {},
   "outputs": [],
   "source": [
    "batch_request = RuntimeBatchRequest(\n",
    "    datasource_name=\"version-0.15.50 example_datasource\",\n",
    "    data_connector_name=\"version-0.15.50 default_runtime_data_connector_name\",\n",
    "    data_asset_name=\"version-0.15.50 <your_meaningful_name>\",  # This can be anything that identifies this data_asset for you\n",
    "    runtime_parameters={\"batch_data\": df},  # df is your dataframe\n",
    "    batch_identifiers={\"default_identifier_name\": \"default_identifier\"},\n",
    ")"
   ]
  },
  {
   "cell_type": "code",
   "execution_count": 9,
   "id": "c89b5538",
   "metadata": {},
   "outputs": [
    {
     "ename": "DatasourceError",
     "evalue": "Cannot initialize datasource version-0.15.50 example_datasource, error: The given datasource could not be retrieved from the DataContext; please confirm that your configuration is accurate.",
     "output_type": "error",
     "traceback": [
      "\u001b[1;31m---------------------------------------------------------------------------\u001b[0m",
      "\u001b[1;31mDatasourceError\u001b[0m                           Traceback (most recent call last)",
      "Cell \u001b[1;32mIn[9], line 2\u001b[0m\n\u001b[0;32m      1\u001b[0m context\u001b[38;5;241m.\u001b[39madd_or_update_expectation_suite(expectation_suite_name\u001b[38;5;241m=\u001b[39m\u001b[38;5;124m\"\u001b[39m\u001b[38;5;124mversion-0.15.50 test_suite\u001b[39m\u001b[38;5;124m\"\u001b[39m)\n\u001b[1;32m----> 2\u001b[0m validator \u001b[38;5;241m=\u001b[39m context\u001b[38;5;241m.\u001b[39mget_validator(\n\u001b[0;32m      3\u001b[0m     batch_request\u001b[38;5;241m=\u001b[39mbatch_request, expectation_suite_name\u001b[38;5;241m=\u001b[39m\u001b[38;5;124m\"\u001b[39m\u001b[38;5;124mversion-0.15.50 test_suite\u001b[39m\u001b[38;5;124m\"\u001b[39m\n\u001b[0;32m      4\u001b[0m )\n\u001b[0;32m      5\u001b[0m \u001b[38;5;28mprint\u001b[39m(validator\u001b[38;5;241m.\u001b[39mhead())\n",
      "File \u001b[1;32m~\\AppData\\Local\\anaconda3\\Lib\\site-packages\\great_expectations\\data_context\\data_context\\abstract_data_context.py:2714\u001b[0m, in \u001b[0;36mAbstractDataContext.get_validator\u001b[1;34m(***failed resolving arguments***)\u001b[0m\n\u001b[0;32m   2710\u001b[0m         batch_request_list \u001b[38;5;241m=\u001b[39m [batch_request]  \u001b[38;5;66;03m# type: ignore[list-item]\u001b[39;00m\n\u001b[0;32m   2712\u001b[0m     \u001b[38;5;28;01mfor\u001b[39;00m batch_request \u001b[38;5;129;01min\u001b[39;00m batch_request_list:\n\u001b[0;32m   2713\u001b[0m         batch_list\u001b[38;5;241m.\u001b[39mextend(\n\u001b[1;32m-> 2714\u001b[0m             \u001b[38;5;28mself\u001b[39m\u001b[38;5;241m.\u001b[39mget_batch_list(\n\u001b[0;32m   2715\u001b[0m                 datasource_name\u001b[38;5;241m=\u001b[39mdatasource_name,\n\u001b[0;32m   2716\u001b[0m                 data_connector_name\u001b[38;5;241m=\u001b[39mdata_connector_name,\n\u001b[0;32m   2717\u001b[0m                 data_asset_name\u001b[38;5;241m=\u001b[39mdata_asset_name,\n\u001b[0;32m   2718\u001b[0m                 batch_request\u001b[38;5;241m=\u001b[39mbatch_request,\n\u001b[0;32m   2719\u001b[0m                 batch_data\u001b[38;5;241m=\u001b[39mbatch_data,\n\u001b[0;32m   2720\u001b[0m                 data_connector_query\u001b[38;5;241m=\u001b[39mdata_connector_query,\n\u001b[0;32m   2721\u001b[0m                 batch_identifiers\u001b[38;5;241m=\u001b[39mbatch_identifiers,\n\u001b[0;32m   2722\u001b[0m                 limit\u001b[38;5;241m=\u001b[39mlimit,\n\u001b[0;32m   2723\u001b[0m                 index\u001b[38;5;241m=\u001b[39mindex,\n\u001b[0;32m   2724\u001b[0m                 custom_filter_function\u001b[38;5;241m=\u001b[39mcustom_filter_function,\n\u001b[0;32m   2725\u001b[0m                 sampling_method\u001b[38;5;241m=\u001b[39msampling_method,\n\u001b[0;32m   2726\u001b[0m                 sampling_kwargs\u001b[38;5;241m=\u001b[39msampling_kwargs,\n\u001b[0;32m   2727\u001b[0m                 splitter_method\u001b[38;5;241m=\u001b[39msplitter_method,\n\u001b[0;32m   2728\u001b[0m                 splitter_kwargs\u001b[38;5;241m=\u001b[39msplitter_kwargs,\n\u001b[0;32m   2729\u001b[0m                 runtime_parameters\u001b[38;5;241m=\u001b[39mruntime_parameters,\n\u001b[0;32m   2730\u001b[0m                 query\u001b[38;5;241m=\u001b[39mquery,\n\u001b[0;32m   2731\u001b[0m                 path\u001b[38;5;241m=\u001b[39mpath,\n\u001b[0;32m   2732\u001b[0m                 batch_filter_parameters\u001b[38;5;241m=\u001b[39mbatch_filter_parameters,\n\u001b[0;32m   2733\u001b[0m                 batch_spec_passthrough\u001b[38;5;241m=\u001b[39mbatch_spec_passthrough,\n\u001b[0;32m   2734\u001b[0m                 \u001b[38;5;241m*\u001b[39m\u001b[38;5;241m*\u001b[39mkwargs,\n\u001b[0;32m   2735\u001b[0m             )\n\u001b[0;32m   2736\u001b[0m         )\n\u001b[0;32m   2738\u001b[0m \u001b[38;5;28;01mreturn\u001b[39;00m \u001b[38;5;28mself\u001b[39m\u001b[38;5;241m.\u001b[39mget_validator_using_batch_list(\n\u001b[0;32m   2739\u001b[0m     expectation_suite\u001b[38;5;241m=\u001b[39mexpectation_suite,  \u001b[38;5;66;03m# type: ignore[arg-type]\u001b[39;00m\n\u001b[0;32m   2740\u001b[0m     batch_list\u001b[38;5;241m=\u001b[39mbatch_list,\n\u001b[0;32m   2741\u001b[0m     include_rendered_content\u001b[38;5;241m=\u001b[39minclude_rendered_content,\n\u001b[0;32m   2742\u001b[0m )\n",
      "File \u001b[1;32m~\\AppData\\Local\\anaconda3\\Lib\\site-packages\\great_expectations\\core\\usage_statistics\\usage_statistics.py:260\u001b[0m, in \u001b[0;36musage_statistics_enabled_method.<locals>.usage_statistics_wrapped_method\u001b[1;34m(*args, **kwargs)\u001b[0m\n\u001b[0;32m    257\u001b[0m         args_payload \u001b[38;5;241m=\u001b[39m args_payload_fn(\u001b[38;5;241m*\u001b[39margs, \u001b[38;5;241m*\u001b[39m\u001b[38;5;241m*\u001b[39mkwargs) \u001b[38;5;129;01mor\u001b[39;00m {}\n\u001b[0;32m    258\u001b[0m         nested_update(event_payload, args_payload)\n\u001b[1;32m--> 260\u001b[0m     result \u001b[38;5;241m=\u001b[39m func(\u001b[38;5;241m*\u001b[39margs, \u001b[38;5;241m*\u001b[39m\u001b[38;5;241m*\u001b[39mkwargs)\n\u001b[0;32m    261\u001b[0m     message[\u001b[38;5;124m\"\u001b[39m\u001b[38;5;124msuccess\u001b[39m\u001b[38;5;124m\"\u001b[39m] \u001b[38;5;241m=\u001b[39m \u001b[38;5;28;01mTrue\u001b[39;00m\n\u001b[0;32m    262\u001b[0m \u001b[38;5;28;01mexcept\u001b[39;00m \u001b[38;5;167;01mException\u001b[39;00m:\n",
      "File \u001b[1;32m~\\AppData\\Local\\anaconda3\\Lib\\site-packages\\great_expectations\\data_context\\data_context\\abstract_data_context.py:2883\u001b[0m, in \u001b[0;36mAbstractDataContext.get_batch_list\u001b[1;34m(self, datasource_name, data_connector_name, data_asset_name, batch_request, batch_data, data_connector_query, batch_identifiers, limit, index, custom_filter_function, sampling_method, sampling_kwargs, splitter_method, splitter_kwargs, runtime_parameters, query, path, batch_filter_parameters, batch_spec_passthrough, batch_request_options, **kwargs)\u001b[0m\n\u001b[0;32m   2805\u001b[0m \u001b[38;5;129m@public_api\u001b[39m\n\u001b[0;32m   2806\u001b[0m \u001b[38;5;129m@usage_statistics_enabled_method\u001b[39m(\n\u001b[0;32m   2807\u001b[0m     event_name\u001b[38;5;241m=\u001b[39mUsageStatsEvents\u001b[38;5;241m.\u001b[39mDATA_CONTEXT_GET_BATCH_LIST,\n\u001b[1;32m   (...)\u001b[0m\n\u001b[0;32m   2832\u001b[0m     \u001b[38;5;241m*\u001b[39m\u001b[38;5;241m*\u001b[39mkwargs: Optional[\u001b[38;5;28mdict\u001b[39m],\n\u001b[0;32m   2833\u001b[0m ) \u001b[38;5;241m-\u001b[39m\u001b[38;5;241m>\u001b[39m List[Batch]:\n\u001b[0;32m   2834\u001b[0m \u001b[38;5;250m    \u001b[39m\u001b[38;5;124;03m\"\"\"Get the list of zero or more batches, based on a variety of flexible input types.\u001b[39;00m\n\u001b[0;32m   2835\u001b[0m \n\u001b[0;32m   2836\u001b[0m \u001b[38;5;124;03m    `get_batch_list` is the main user-facing API for getting batches.\u001b[39;00m\n\u001b[1;32m   (...)\u001b[0m\n\u001b[0;32m   2881\u001b[0m \n\u001b[0;32m   2882\u001b[0m \u001b[38;5;124;03m    \"\"\"\u001b[39;00m\n\u001b[1;32m-> 2883\u001b[0m     \u001b[38;5;28;01mreturn\u001b[39;00m \u001b[38;5;28mself\u001b[39m\u001b[38;5;241m.\u001b[39m_get_batch_list(\n\u001b[0;32m   2884\u001b[0m         datasource_name\u001b[38;5;241m=\u001b[39mdatasource_name,\n\u001b[0;32m   2885\u001b[0m         data_connector_name\u001b[38;5;241m=\u001b[39mdata_connector_name,\n\u001b[0;32m   2886\u001b[0m         data_asset_name\u001b[38;5;241m=\u001b[39mdata_asset_name,\n\u001b[0;32m   2887\u001b[0m         batch_request\u001b[38;5;241m=\u001b[39mbatch_request,\n\u001b[0;32m   2888\u001b[0m         batch_data\u001b[38;5;241m=\u001b[39mbatch_data,\n\u001b[0;32m   2889\u001b[0m         data_connector_query\u001b[38;5;241m=\u001b[39mdata_connector_query,\n\u001b[0;32m   2890\u001b[0m         batch_identifiers\u001b[38;5;241m=\u001b[39mbatch_identifiers,\n\u001b[0;32m   2891\u001b[0m         limit\u001b[38;5;241m=\u001b[39mlimit,\n\u001b[0;32m   2892\u001b[0m         index\u001b[38;5;241m=\u001b[39mindex,\n\u001b[0;32m   2893\u001b[0m         custom_filter_function\u001b[38;5;241m=\u001b[39mcustom_filter_function,\n\u001b[0;32m   2894\u001b[0m         sampling_method\u001b[38;5;241m=\u001b[39msampling_method,\n\u001b[0;32m   2895\u001b[0m         sampling_kwargs\u001b[38;5;241m=\u001b[39msampling_kwargs,\n\u001b[0;32m   2896\u001b[0m         splitter_method\u001b[38;5;241m=\u001b[39msplitter_method,\n\u001b[0;32m   2897\u001b[0m         splitter_kwargs\u001b[38;5;241m=\u001b[39msplitter_kwargs,\n\u001b[0;32m   2898\u001b[0m         runtime_parameters\u001b[38;5;241m=\u001b[39mruntime_parameters,\n\u001b[0;32m   2899\u001b[0m         query\u001b[38;5;241m=\u001b[39mquery,\n\u001b[0;32m   2900\u001b[0m         path\u001b[38;5;241m=\u001b[39mpath,\n\u001b[0;32m   2901\u001b[0m         batch_filter_parameters\u001b[38;5;241m=\u001b[39mbatch_filter_parameters,\n\u001b[0;32m   2902\u001b[0m         batch_spec_passthrough\u001b[38;5;241m=\u001b[39mbatch_spec_passthrough,\n\u001b[0;32m   2903\u001b[0m         batch_request_options\u001b[38;5;241m=\u001b[39mbatch_request_options,\n\u001b[0;32m   2904\u001b[0m         \u001b[38;5;241m*\u001b[39m\u001b[38;5;241m*\u001b[39mkwargs,\n\u001b[0;32m   2905\u001b[0m     )\n",
      "File \u001b[1;32m~\\AppData\\Local\\anaconda3\\Lib\\site-packages\\great_expectations\\data_context\\data_context\\abstract_data_context.py:2956\u001b[0m, in \u001b[0;36mAbstractDataContext._get_batch_list\u001b[1;34m(self, datasource_name, data_connector_name, data_asset_name, batch_request, batch_data, data_connector_query, batch_identifiers, limit, index, custom_filter_function, sampling_method, sampling_kwargs, splitter_method, splitter_kwargs, runtime_parameters, query, path, batch_filter_parameters, batch_spec_passthrough, batch_request_options, **kwargs)\u001b[0m\n\u001b[0;32m   2954\u001b[0m datasource_name \u001b[38;5;241m=\u001b[39m result\u001b[38;5;241m.\u001b[39mdatasource_name\n\u001b[0;32m   2955\u001b[0m \u001b[38;5;28;01mif\u001b[39;00m datasource_name \u001b[38;5;129;01mnot\u001b[39;00m \u001b[38;5;129;01min\u001b[39;00m \u001b[38;5;28mself\u001b[39m\u001b[38;5;241m.\u001b[39mdatasources:\n\u001b[1;32m-> 2956\u001b[0m     \u001b[38;5;28;01mraise\u001b[39;00m gx_exceptions\u001b[38;5;241m.\u001b[39mDatasourceError(\n\u001b[0;32m   2957\u001b[0m         datasource_name,\n\u001b[0;32m   2958\u001b[0m         \u001b[38;5;124m\"\u001b[39m\u001b[38;5;124mThe given datasource could not be retrieved from the DataContext; \u001b[39m\u001b[38;5;124m\"\u001b[39m\n\u001b[0;32m   2959\u001b[0m         \u001b[38;5;124m\"\u001b[39m\u001b[38;5;124mplease confirm that your configuration is accurate.\u001b[39m\u001b[38;5;124m\"\u001b[39m,\n\u001b[0;32m   2960\u001b[0m     )\n\u001b[0;32m   2962\u001b[0m datasource \u001b[38;5;241m=\u001b[39m \u001b[38;5;28mself\u001b[39m\u001b[38;5;241m.\u001b[39mdatasources[\n\u001b[0;32m   2963\u001b[0m     datasource_name\n\u001b[0;32m   2964\u001b[0m ]  \u001b[38;5;66;03m# this can return one of three datasource types, including Fluent datasource types\u001b[39;00m\n\u001b[0;32m   2965\u001b[0m \u001b[38;5;28;01mreturn\u001b[39;00m datasource\u001b[38;5;241m.\u001b[39mget_batch_list_from_batch_request(batch_request\u001b[38;5;241m=\u001b[39mresult)\n",
      "\u001b[1;31mDatasourceError\u001b[0m: Cannot initialize datasource version-0.15.50 example_datasource, error: The given datasource could not be retrieved from the DataContext; please confirm that your configuration is accurate."
     ]
    }
   ],
   "source": [
    "context.add_or_update_expectation_suite(expectation_suite_name=\"version-0.15.50 test_suite\")\n",
    "validator = context.get_validator(\n",
    "    batch_request=batch_request, expectation_suite_name=\"version-0.15.50 test_suite\"\n",
    ")\n",
    "print(validator.head())"
   ]
  },
  {
   "cell_type": "code",
   "execution_count": null,
   "id": "9f9ac818",
   "metadata": {},
   "outputs": [],
   "source": []
  }
 ],
 "metadata": {
  "kernelspec": {
   "display_name": "Python 3 (ipykernel)",
   "language": "python",
   "name": "python3"
  },
  "language_info": {
   "codemirror_mode": {
    "name": "ipython",
    "version": 3
   },
   "file_extension": ".py",
   "mimetype": "text/x-python",
   "name": "python",
   "nbconvert_exporter": "python",
   "pygments_lexer": "ipython3",
   "version": "3.11.3"
  }
 },
 "nbformat": 4,
 "nbformat_minor": 5
}
