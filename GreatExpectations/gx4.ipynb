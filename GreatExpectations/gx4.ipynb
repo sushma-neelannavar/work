{
 "cells": [
  {
   "cell_type": "code",
   "execution_count": 10,
   "id": "df07739b",
   "metadata": {},
   "outputs": [],
   "source": [
    "import great_expectations as ge \n",
    "import pandas as pd \n"
   ]
  },
  {
   "cell_type": "code",
   "execution_count": 11,
   "id": "7893c91a",
   "metadata": {},
   "outputs": [
    {
     "data": {
      "text/plain": [
       "{\n",
       "  \"success\": true,\n",
       "  \"result\": {\n",
       "    \"element_count\": 5,\n",
       "    \"missing_count\": 0,\n",
       "    \"missing_percent\": 0.0,\n",
       "    \"unexpected_count\": 0,\n",
       "    \"unexpected_percent\": 0.0,\n",
       "    \"unexpected_percent_total\": 0.0,\n",
       "    \"unexpected_percent_nonmissing\": 0.0,\n",
       "    \"partial_unexpected_list\": []\n",
       "  },\n",
       "  \"meta\": {},\n",
       "  \"exception_info\": {\n",
       "    \"raised_exception\": false,\n",
       "    \"exception_traceback\": null,\n",
       "    \"exception_message\": null\n",
       "  }\n",
       "}"
      ]
     },
     "execution_count": 11,
     "metadata": {},
     "output_type": "execute_result"
    }
   ],
   "source": [
    "import pandas as pd\n",
    "from great_expectations.dataset import PandasDataset\n",
    "\n",
    "# Load the sample data into a Pandas DataFrame\n",
    "data = {\n",
    "    \"id\": [1, 2, 3, 4, 5],\n",
    "    \"name\": [\"Alice\", \"Bob\", \"Charlie\", \"David\", \"Eve\"],\n",
    "    \"age\": [25, 32, 45, 28, 19]\n",
    "}\n",
    "df = pd.DataFrame(data)\n",
    "\n",
    "# Convert the DataFrame to a PandasDataset\n",
    "my_dataset = PandasDataset(df)\n",
    "\n",
    "# Create expectations\n",
    "my_dataset.expect_column_values_to_be_in_set(\"name\", [\"Alice\", \"Bob\", \"Charlie\", \"David\", \"Eve\", \"Frank\"])"
   ]
  },
  {
   "cell_type": "code",
   "execution_count": 13,
   "id": "3831be53",
   "metadata": {},
   "outputs": [
    {
     "name": "stdout",
     "output_type": "stream",
     "text": [
      "{\n",
      "  \"success\": true,\n",
      "  \"results\": [\n",
      "    {\n",
      "      \"success\": true,\n",
      "      \"expectation_config\": {\n",
      "        \"expectation_type\": \"expect_column_values_to_be_in_set\",\n",
      "        \"kwargs\": {\n",
      "          \"column\": \"name\",\n",
      "          \"value_set\": [\n",
      "            \"Alice\",\n",
      "            \"Bob\",\n",
      "            \"Charlie\",\n",
      "            \"David\",\n",
      "            \"Eve\",\n",
      "            \"Frank\"\n",
      "          ],\n",
      "          \"result_format\": \"BASIC\"\n",
      "        },\n",
      "        \"meta\": {}\n",
      "      },\n",
      "      \"result\": {\n",
      "        \"element_count\": 5,\n",
      "        \"missing_count\": 0,\n",
      "        \"missing_percent\": 0.0,\n",
      "        \"unexpected_count\": 0,\n",
      "        \"unexpected_percent\": 0.0,\n",
      "        \"unexpected_percent_total\": 0.0,\n",
      "        \"unexpected_percent_nonmissing\": 0.0,\n",
      "        \"partial_unexpected_list\": []\n",
      "      },\n",
      "      \"meta\": {},\n",
      "      \"exception_info\": {\n",
      "        \"raised_exception\": false,\n",
      "        \"exception_message\": null,\n",
      "        \"exception_traceback\": null\n",
      "      }\n",
      "    }\n",
      "  ],\n",
      "  \"evaluation_parameters\": {},\n",
      "  \"statistics\": {\n",
      "    \"evaluated_expectations\": 1,\n",
      "    \"successful_expectations\": 1,\n",
      "    \"unsuccessful_expectations\": 0,\n",
      "    \"success_percent\": 100.0\n",
      "  },\n",
      "  \"meta\": {\n",
      "    \"great_expectations_version\": \"0.17.8\",\n",
      "    \"expectation_suite_name\": \"default\",\n",
      "    \"run_id\": {\n",
      "      \"run_name\": null,\n",
      "      \"run_time\": \"2023-08-10T05:37:54.019677+05:30\"\n",
      "    },\n",
      "    \"batch_kwargs\": {\n",
      "      \"ge_batch_id\": \"c8a46f38-3711-11ee-a396-c89402dbf684\"\n",
      "    },\n",
      "    \"batch_markers\": {},\n",
      "    \"batch_parameters\": {},\n",
      "    \"validation_time\": \"20230810T000754.019677Z\",\n",
      "    \"expectation_suite_meta\": {\n",
      "      \"great_expectations_version\": \"0.17.8\"\n",
      "    }\n",
      "  }\n",
      "}\n",
      "<class 'great_expectations.core.expectation_validation_result.ExpectationSuiteValidationResult'>\n"
     ]
    },
    {
     "ename": "TypeError",
     "evalue": "string indices must be integers, not 'str'",
     "output_type": "error",
     "traceback": [
      "\u001b[1;31m---------------------------------------------------------------------------\u001b[0m",
      "\u001b[1;31mTypeError\u001b[0m                                 Traceback (most recent call last)",
      "Cell \u001b[1;32mIn[13], line 8\u001b[0m\n\u001b[0;32m      6\u001b[0m \u001b[38;5;28mprint\u001b[39m(\u001b[38;5;28mtype\u001b[39m(results))\n\u001b[0;32m      7\u001b[0m \u001b[38;5;66;03m# Generate an HTML report\u001b[39;00m\n\u001b[1;32m----> 8\u001b[0m validation_results \u001b[38;5;241m=\u001b[39m [result \u001b[38;5;28;01mfor\u001b[39;00m batch \u001b[38;5;129;01min\u001b[39;00m results \u001b[38;5;28;01mfor\u001b[39;00m result \u001b[38;5;129;01min\u001b[39;00m batch[\u001b[38;5;124m\"\u001b[39m\u001b[38;5;124mresults\u001b[39m\u001b[38;5;124m\"\u001b[39m]]\n\u001b[0;32m      9\u001b[0m html_report \u001b[38;5;241m=\u001b[39m MetaPandasDataset\u001b[38;5;241m.\u001b[39mrow_batch_list_to_jsondict(validation_results)\u001b[38;5;241m.\u001b[39mget(\u001b[38;5;124m\"\u001b[39m\u001b[38;5;124mmeta\u001b[39m\u001b[38;5;124m\"\u001b[39m)\n\u001b[0;32m     11\u001b[0m \u001b[38;5;66;03m# Save the HTML report to a file\u001b[39;00m\n",
      "Cell \u001b[1;32mIn[13], line 8\u001b[0m, in \u001b[0;36m<listcomp>\u001b[1;34m(.0)\u001b[0m\n\u001b[0;32m      6\u001b[0m \u001b[38;5;28mprint\u001b[39m(\u001b[38;5;28mtype\u001b[39m(results))\n\u001b[0;32m      7\u001b[0m \u001b[38;5;66;03m# Generate an HTML report\u001b[39;00m\n\u001b[1;32m----> 8\u001b[0m validation_results \u001b[38;5;241m=\u001b[39m [result \u001b[38;5;28;01mfor\u001b[39;00m batch \u001b[38;5;129;01min\u001b[39;00m results \u001b[38;5;28;01mfor\u001b[39;00m result \u001b[38;5;129;01min\u001b[39;00m batch[\u001b[38;5;124m\"\u001b[39m\u001b[38;5;124mresults\u001b[39m\u001b[38;5;124m\"\u001b[39m]]\n\u001b[0;32m      9\u001b[0m html_report \u001b[38;5;241m=\u001b[39m MetaPandasDataset\u001b[38;5;241m.\u001b[39mrow_batch_list_to_jsondict(validation_results)\u001b[38;5;241m.\u001b[39mget(\u001b[38;5;124m\"\u001b[39m\u001b[38;5;124mmeta\u001b[39m\u001b[38;5;124m\"\u001b[39m)\n\u001b[0;32m     11\u001b[0m \u001b[38;5;66;03m# Save the HTML report to a file\u001b[39;00m\n",
      "\u001b[1;31mTypeError\u001b[0m: string indices must be integers, not 'str'"
     ]
    }
   ],
   "source": [
    "from great_expectations.dataset import MetaPandasDataset\n",
    "\n",
    "# Validate the dataset against the defined expectations\n",
    "results = my_dataset.validate()\n",
    "print(results)\n",
    "print(type(results))\n",
    "# Generate an HTML report\n",
    "validation_results = [result for batch in results for result in batch[\"results\"]]\n",
    "html_report = MetaPandasDataset.row_batch_list_to_jsondict(validation_results).get(\"meta\")\n",
    "\n",
    "# Save the HTML report to a file\n",
    "with open(\"validation_report.html\", \"w\") as f:\n",
    "    f.write(html_report)"
   ]
  },
  {
   "cell_type": "code",
   "execution_count": null,
   "id": "7b4a36a7",
   "metadata": {},
   "outputs": [],
   "source": []
  }
 ],
 "metadata": {
  "kernelspec": {
   "display_name": "Python 3 (ipykernel)",
   "language": "python",
   "name": "python3"
  },
  "language_info": {
   "codemirror_mode": {
    "name": "ipython",
    "version": 3
   },
   "file_extension": ".py",
   "mimetype": "text/x-python",
   "name": "python",
   "nbconvert_exporter": "python",
   "pygments_lexer": "ipython3",
   "version": "3.11.3"
  }
 },
 "nbformat": 4,
 "nbformat_minor": 5
}
